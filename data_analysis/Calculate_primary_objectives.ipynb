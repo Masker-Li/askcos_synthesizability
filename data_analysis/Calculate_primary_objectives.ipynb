{
 "cells": [
  {
   "cell_type": "code",
   "execution_count": 5,
   "metadata": {},
   "outputs": [],
   "source": [
    "import pandas as pd\n",
    "import numpy as np\n",
    "import matplotlib as mpl\n",
    "import sys\n",
    "import os\n",
    "import matplotlib.pyplot as plt\n",
    "%matplotlib inline\n",
    "import json\n",
    "import pickle\n",
    "from pprint import pprint\n",
    "import matplotlib\n",
    "\n",
    "from rdkit import rdBase, Chem\n",
    "from rdkit.Chem import AllChem, Draw, PandasTools\n",
    "from rdkit.Chem.Draw import IPythonConsole\n",
    "\n",
    "import seaborn as sns\n",
    "from mpl_toolkits import mplot3d\n",
    "# import plotly.express as px\n",
    "sns.set_style(\"whitegrid\")"
   ]
  },
  {
   "cell_type": "code",
   "execution_count": 6,
   "metadata": {},
   "outputs": [],
   "source": [
    "from guacamol.standard_benchmarks import *"
   ]
  },
  {
   "cell_type": "code",
   "execution_count": 11,
   "metadata": {},
   "outputs": [],
   "source": [
    "def get_benchmarks(task):\n",
    "    if task == 'wo':\n",
    "        bench = {\n",
    "            'C7H8N2O2': isomers_c7h8n2o2(),\n",
    "            'CNS MPO': cns_mpo(),\n",
    "            'Pioglitazone MPO': pioglitazone_mpo(),\n",
    "            'QED': qed_benchmark()\n",
    "        }\n",
    "    elif task == 'wa':\n",
    "        bench = {\n",
    "            'SA_isomer': isomers_c7h8n2o2(),\n",
    "            'SA_CNS': cns_mpo(),\n",
    "            'SA_pioglitazone': pioglitazone_mpo(),\n",
    "            'SA_QED': qed_benchmark()\n",
    "        }\n",
    "    elif task == 'wc':\n",
    "        bench = {\n",
    "            'SC_isomer': isomers_c7h8n2o2(),\n",
    "            'SC_CNS': cns_mpo(),\n",
    "            'SC_pioglitazone': pioglitazone_mpo(),\n",
    "            'SC_QED': qed_benchmark()\n",
    "        }\n",
    "    elif task == 'v3':\n",
    "        bench = {\n",
    "            'SA_logP_target': logP_benchmark(target=8),\n",
    "            'SA_osimertinib': hard_osimertinib(),\n",
    "            'SA_fexofenadine': hard_fexofenadine(),\n",
    "            'SA_Ranolazine': ranolazine_mpo(),\n",
    "            'SA_perindopril': perindopril_rings(),\n",
    "            'SA_amlodipine': amlodipine_rings(),\n",
    "            'SA_sitagliptin': sitagliptin_replacement(),\n",
    "            'SA_zaleplon': zaleplon_with_other_formula(),\n",
    "            'SA_valsartan': valsartan_smarts(),\n",
    "            'SA_decoration_hop': scaffold_hop(),\n",
    "            'SA_scaffold_hop': decoration_hop()\n",
    "        }\n",
    "    elif task == 'v4':\n",
    "        bench = {\n",
    "            'Osimertinib MPO': hard_osimertinib(),\n",
    "            'Fexofenadine MPO': hard_fexofenadine(),\n",
    "            'Ranolazine MPO': ranolazine_mpo(),\n",
    "            'Perindopril MPO': perindopril_rings(),\n",
    "            'Amlodipine MPO': amlodipine_rings(),\n",
    "            'Sitagliptin MPO': sitagliptin_replacement(),\n",
    "            'Zaleplon MPO': zaleplon_with_other_formula(),\n",
    "            'Valsartan SMARTS': valsartan_smarts(),\n",
    "            'Deco Hop': scaffold_hop(),\n",
    "            'Scaffold Hop': decoration_hop()\n",
    "        }\n",
    "    elif task == 'v5':\n",
    "        bench = {\n",
    "            'SC_logP_target': logP_benchmark(target=8),\n",
    "            'SC_osimertinib': hard_osimertinib(),\n",
    "            'SC_fexofenadine': hard_fexofenadine(),\n",
    "            'SC_Ranolazine': ranolazine_mpo(),\n",
    "            'SC_ranolazine': ranolazine_mpo(),\n",
    "            'SC_perindopril': perindopril_rings(),\n",
    "            'SC_amlodipine': amlodipine_rings(),\n",
    "            'SC_sitagliptin': sitagliptin_replacement(),\n",
    "            'SC_zaleplon': zaleplon_with_other_formula(),\n",
    "            'SC_valsartan': valsartan_smarts(),\n",
    "            'SC_decoration_hop': scaffold_hop(),\n",
    "            'SC_scaffold_hop': decoration_hop()\n",
    "        }\n",
    "    return bench\n",
    "\n",
    "\n",
    "def normal(a):\n",
    "    if a == 'SC_osimertinib' or a == 'SA_osimertinib':\n",
    "        return 'Osimertinib MPO'\n",
    "    elif a == 'SC_fexofenadine' or a == 'SA_fexofenadine':\n",
    "        return 'Fexofenadine MPO'\n",
    "    elif a == 'SC_ranolazine' or a == 'SA_Ranolazine':\n",
    "        return 'Ranolazine MPO'\n",
    "    elif a == 'SC_perindopril' or a == 'SA_perindopril':\n",
    "        return 'Perindopril MPO'\n",
    "    elif a == 'SC_amlodipine' or a == 'SA_amlodipine':\n",
    "        return 'Amlodipine MPO'\n",
    "    elif a == 'SC_sitagliptin' or a == 'SA_sitagliptin':\n",
    "        return 'Sitagliptin MPO'\n",
    "    elif a == 'SC_zaleplon' or a == 'SA_zaleplon':\n",
    "        return 'Zaleplon MPO'\n",
    "    elif a == 'SC_valsartan' or a == 'SA_valsartan':\n",
    "        return 'Valsartan SMARTS'\n",
    "    elif a == 'SC_decoration_hop' or a == 'SA_decoration_hop':\n",
    "        return 'Deco Hop'\n",
    "    elif a == 'SC_scaffold_hop' or a == 'SA_scaffold_hop':\n",
    "        return 'Scaffold Hop'\n",
    "    elif a == 'SC_CNS' or a == 'SA_CNS':\n",
    "        return 'CNS MPO'\n",
    "    elif a == 'SC_isomer' or a == 'SA_isomer':\n",
    "        return 'C7H8N2O2'\n",
    "    elif a == 'SC_pioglitazone' or a == 'SA_pioglitazone':\n",
    "        return 'Pioglitazone MPO'\n",
    "    elif a == 'SC_QED' or a == 'SA_QED':\n",
    "        return 'QED'\n",
    "    else:\n",
    "        return a\n",
    "    \n",
    "\n",
    "def calc_prop(df, task):\n",
    "    df['objective'] = 0\n",
    "    dfs = []\n",
    "    props = set(df['property'])\n",
    "    benchs = get_benchmarks(task)\n",
    "    for prop in props:\n",
    "        bench = benchs[prop]\n",
    "        df_temp = df[df['property'] == prop]\n",
    "        df_temp['objective'] = df_temp.SMILES.apply(bench.objective.score)\n",
    "        dfs.append(df_temp)\n",
    "    return pd.concat(dfs)\n",
    "\n",
    "def calc_avg(df, threshold, x1, x2):\n",
    "    x1_candidate = list(set(df[x1]))\n",
    "    x2_candidate = list(set(df[x2]))\n",
    "    data = np.zeros([len(x1_candidate), len(x2_candidate)])\n",
    "    df_temp = df[df['rank'] <= threshold]\n",
    "    for i in range(len(x1_candidate)):\n",
    "        for j in range(len(x2_candidate)):\n",
    "            data[i][j] = df_temp[df_temp[x1] == x1_candidate[i]][df_temp[x2] == x2_candidate[j]].objective.mean()\n",
    "            \n",
    "    return pd.DataFrame(data, columns=x2_candidate, index=x1_candidate)\n",
    "\n",
    "def make_synth_data(df, x1='property', x2='method'):\n",
    "    df_synth = df[df['tb_synthesizability'] == 1]\n",
    "    x1_candidate = list(set(df[x1]))\n",
    "    x2_candidate = list(set(df[x2]))\n",
    "    dfs = []\n",
    "    for i in range(len(x1_candidate)):\n",
    "        for j in range(len(x2_candidate)):\n",
    "            df_temp = df_synth[df_synth[x1] == x1_candidate[i]][df_synth[x2] == x2_candidate[j]]\n",
    "            df_temp['rank'] = list(range(1, len(df_temp) + 1))\n",
    "            dfs.append(df_temp)\n",
    "    return pd.concat(dfs)"
   ]
  },
  {
   "cell_type": "code",
   "execution_count": 6,
   "metadata": {},
   "outputs": [
    {
     "ename": "NameError",
     "evalue": "name 'df_hard_mwo' is not defined",
     "output_type": "error",
     "traceback": [
      "\u001b[0;31m---------------------------------------------------------------------------\u001b[0m",
      "\u001b[0;31mNameError\u001b[0m                                 Traceback (most recent call last)",
      "\u001b[0;32m<ipython-input-6-fa526c3c85a4>\u001b[0m in \u001b[0;36m<module>\u001b[0;34m\u001b[0m\n\u001b[0;32m----> 1\u001b[0;31m \u001b[0mtemp\u001b[0m \u001b[0;34m=\u001b[0m \u001b[0mdf_hard_mwo\u001b[0m\u001b[0;34m[\u001b[0m\u001b[0mdf_hard_mwo\u001b[0m\u001b[0;34m[\u001b[0m\u001b[0;34m'property'\u001b[0m\u001b[0;34m]\u001b[0m \u001b[0;34m==\u001b[0m \u001b[0;34m'Deco Hop'\u001b[0m\u001b[0;34m]\u001b[0m\u001b[0;34m[\u001b[0m\u001b[0mdf_hard_mwo\u001b[0m\u001b[0;34m[\u001b[0m\u001b[0;34m'method'\u001b[0m\u001b[0;34m]\u001b[0m \u001b[0;34m==\u001b[0m \u001b[0;34m'best_from_chembl'\u001b[0m\u001b[0;34m]\u001b[0m\u001b[0;34m\u001b[0m\u001b[0m\n\u001b[0m\u001b[1;32m      2\u001b[0m \u001b[0mtemp\u001b[0m\u001b[0;34m\u001b[0m\u001b[0m\n",
      "\u001b[0;31mNameError\u001b[0m: name 'df_hard_mwo' is not defined"
     ]
    }
   ],
   "source": [
    "temp = df_hard_mwo[df_hard_mwo['property'] == 'Deco Hop'][df_hard_mwo['method'] == 'best_from_chembl']\n",
    "temp"
   ]
  },
  {
   "cell_type": "code",
   "execution_count": null,
   "metadata": {},
   "outputs": [],
   "source": [
    "# 'Osimertinib MPO': hard_osimertinib(),\n",
    "# 'Fexofenadine MPO': hard_fexofenadine(),\n",
    "# 'Ranolazine MPO': ranolazine_mpo(),\n",
    "# 'Perindopril MPO': perindopril_rings(),\n",
    "# 'Amlodipine MPO': amlodipine_rings(),\n",
    "# 'Sitagliptin MPO': sitagliptin_replacement(),\n",
    "# 'Zaleplon MPO': zaleplon_with_other_formula(),\n",
    "# 'Valsartan SMARTS': valsartan_smarts(),\n",
    "# 'Deco Hop': decoration_hop(),\n",
    "# 'Scaffold Hop': scaffold_hop()"
   ]
  },
  {
   "cell_type": "code",
   "execution_count": 7,
   "metadata": {},
   "outputs": [],
   "source": [
    "df_chembl_wo = pd.read_csv('./chembl_wo.csv')\n",
    "df_chembl_wa = pd.read_csv('./chembl_wa.csv')\n",
    "df_chembl_wc = pd.read_csv('./chembl_wc.csv')\n",
    "\n",
    "df_moses_wo = pd.read_csv('./moses_wo.csv')\n",
    "df_moses_wa = pd.read_csv('./moses_wa.csv')\n",
    "df_moses_wc = pd.read_csv('./moses_wc.csv')"
   ]
  },
  {
   "cell_type": "code",
   "execution_count": 5,
   "metadata": {},
   "outputs": [],
   "source": [
    "# df_chembl_wo['rank'] = list(range(1, 101)) * 16\n",
    "# df_chembl_wa['rank'] = list(range(1, 101)) * 16\n",
    "# df_chembl_wc['rank'] = list(range(1, 101)) * 16\n",
    "\n",
    "# df_moses_wo['rank'] = list(range(1, 101)) * 16\n",
    "# df_moses_wa['rank'] = list(range(1, 101)) * 16\n",
    "# df_moses_wc['rank'] = list(range(1, 101)) * 16"
   ]
  },
  {
   "cell_type": "code",
   "execution_count": 6,
   "metadata": {},
   "outputs": [],
   "source": [
    "# df_chembl_wo.to_csv('./chembl_wo.csv', index=False)\n",
    "# df_chembl_wa.to_csv('./chembl_wa.csv', index=False)\n",
    "# df_chembl_wc.to_csv('./chembl_wc.csv', index=False)\n",
    "\n",
    "# df_moses_wo.to_csv('./moses_wo.csv', index=False)\n",
    "# df_moses_wa.to_csv('./moses_wa.csv', index=False)\n",
    "# df_moses_wc.to_csv('./moses_wc.csv', index=False)"
   ]
  },
  {
   "cell_type": "code",
   "execution_count": 7,
   "metadata": {},
   "outputs": [],
   "source": [
    "# df_chembl_wo = calc_prop(df_chembl_wo, 'wo')\n",
    "# df_chembl_wa = calc_prop(df_chembl_wa, 'wa')\n",
    "# df_chembl_wc = calc_prop(df_chembl_wc, 'wc')\n",
    "\n",
    "# df_moses_wo = calc_prop(df_moses_wo, 'wo')\n",
    "# df_moses_wa = calc_prop(df_moses_wa, 'wa')\n",
    "# df_moses_wc = calc_prop(df_moses_wc, 'wc')"
   ]
  },
  {
   "cell_type": "code",
   "execution_count": 8,
   "metadata": {},
   "outputs": [],
   "source": [
    "df_chembl_wo_prop = calc_avg(df_chembl_wo, 100, 'property', 'method')\n",
    "df_chembl_wa_prop = calc_avg(df_chembl_wa, 100, 'property', 'method')\n",
    "df_chembl_wc_prop = calc_avg(df_chembl_wc, 100, 'property', 'method')\n",
    "\n",
    "df_moses_wo_prop = calc_avg(df_moses_wo, 100, 'property', 'method')\n",
    "df_moses_wa_prop = calc_avg(df_moses_wa, 100, 'property', 'method')\n",
    "df_moses_wc_prop = calc_avg(df_moses_wc, 100, 'property', 'method')"
   ]
  },
  {
   "cell_type": "code",
   "execution_count": 9,
   "metadata": {},
   "outputs": [
    {
     "data": {
      "text/plain": [
       "(                  best_from_chembl  smiles_lstm  graph_ga  smiles_ga\n",
       " Pioglitazone MPO          0.862957     0.985188  0.980221   0.995901\n",
       " QED                       0.948295     0.948312  0.948295   0.948295\n",
       " C7H8N2O2                  0.826730     0.905177  0.912204   0.832357\n",
       " CNS MPO                   1.000000     1.000000  1.000000   1.000000,\n",
       "                  best_from_chembl  smiles_lstm  graph_ga  smiles_ga\n",
       " SA_pioglitazone          0.811770     0.981146  0.847762   0.820748\n",
       " SA_QED                   0.948166     0.948241  0.948166   0.948173\n",
       " SA_CNS                   1.000000     1.000000  1.000000   1.000000\n",
       " SA_isomer                0.811008     0.906741  0.888421   0.821447,\n",
       "                  best_from_chembl  smiles_lstm  graph_ga  smiles_ga\n",
       " SC_QED                   0.947881     0.948249  0.947893   0.947882\n",
       " SC_pioglitazone          0.746501     0.976589  0.982779   0.822324\n",
       " SC_isomer                0.824736     0.904118  0.860311   0.834238\n",
       " SC_CNS                   1.000000     1.000000  1.000000   1.000000)"
      ]
     },
     "execution_count": 9,
     "metadata": {},
     "output_type": "execute_result"
    }
   ],
   "source": [
    "df_moses_wo_prop, df_moses_wa_prop, df_moses_wc_prop"
   ]
  },
  {
   "cell_type": "code",
   "execution_count": 10,
   "metadata": {},
   "outputs": [
    {
     "data": {
      "text/plain": [
       "(                  smiles_lstm  graph_ga  best_from_chembl  smiles_ga\n",
       " Pioglitazone MPO     0.986005  0.996578          0.964301   0.999200\n",
       " CNS MPO              1.000000  1.000000          1.000000   1.000000\n",
       " QED                  0.948071  0.947820          0.947814   0.947830\n",
       " C7H8N2O2             1.000000  0.993334          0.972048   0.992099,\n",
       "                  smiles_lstm  graph_ga  best_from_chembl  smiles_ga\n",
       " SA_pioglitazone     0.941793  0.876173          0.861828   0.879976\n",
       " SA_QED              0.947949  0.947366          0.947356   0.947383\n",
       " SA_isomer           1.000000  0.945904          0.944729   0.952896\n",
       " SA_CNS              1.000000  1.000000          1.000000   1.000000,\n",
       "                  smiles_lstm  graph_ga  best_from_chembl  smiles_ga\n",
       " SC_isomer           1.000000  0.974867          0.966127   0.966832\n",
       " SC_pioglitazone     0.951539  0.974329          0.904147   0.942912\n",
       " SC_CNS              1.000000  1.000000          1.000000   1.000000\n",
       " SC_QED              0.947949  0.946715          0.946077   0.946153)"
      ]
     },
     "execution_count": 10,
     "metadata": {},
     "output_type": "execute_result"
    }
   ],
   "source": [
    "df_chembl_wo_prop, df_chembl_wa_prop, df_chembl_wc_prop"
   ]
  },
  {
   "cell_type": "code",
   "execution_count": 11,
   "metadata": {},
   "outputs": [],
   "source": [
    "df_chembl_wo_synth = make_synth_data(df_chembl_wo)\n",
    "df_chembl_wa_synth = make_synth_data(df_chembl_wa)\n",
    "df_chembl_wc_synth = make_synth_data(df_chembl_wc)\n",
    "\n",
    "df_moses_wo_synth = make_synth_data(df_moses_wo)\n",
    "df_moses_wa_synth = make_synth_data(df_moses_wa)\n",
    "df_moses_wc_synth = make_synth_data(df_moses_wc)"
   ]
  },
  {
   "cell_type": "code",
   "execution_count": 12,
   "metadata": {},
   "outputs": [],
   "source": [
    "df_chembl_wo_prop_s10 = calc_avg(df_chembl_wo_synth, 10, 'property', 'method')\n",
    "df_chembl_wa_prop_s10 = calc_avg(df_chembl_wa_synth, 10, 'property', 'method')\n",
    "df_chembl_wc_prop_s10 = calc_avg(df_chembl_wc_synth, 10, 'property', 'method')\n",
    "\n",
    "df_moses_wo_prop_s10 = calc_avg(df_moses_wo_synth, 10, 'property', 'method')\n",
    "df_moses_wa_prop_s10 = calc_avg(df_moses_wa_synth, 10, 'property', 'method')\n",
    "df_moses_wc_prop_s10 = calc_avg(df_moses_wc_synth, 10, 'property', 'method')"
   ]
  },
  {
   "cell_type": "code",
   "execution_count": 13,
   "metadata": {},
   "outputs": [
    {
     "data": {
      "text/plain": [
       "(                  best_from_chembl  smiles_lstm  graph_ga  smiles_ga\n",
       " Pioglitazone MPO          0.900289     0.990511  0.981939        NaN\n",
       " QED                       0.948397     0.948397  0.948393   0.948397\n",
       " C7H8N2O2                  0.882497     0.923870  0.971451   0.882497\n",
       " CNS MPO                   1.000000     1.000000  1.000000   1.000000,\n",
       "                  best_from_chembl  smiles_lstm  graph_ga  smiles_ga\n",
       " SA_pioglitazone          0.868506     0.991913  0.951067   0.878039\n",
       " SA_QED                   0.948320     0.948387  0.948320   0.948344\n",
       " SA_CNS                   1.000000     1.000000  1.000000   1.000000\n",
       " SA_isomer                0.882497     0.923870  0.923870   0.882497,\n",
       "                  best_from_chembl  smiles_lstm  graph_ga  smiles_ga\n",
       " SC_QED                   0.948298     0.948383  0.948298   0.948298\n",
       " SC_pioglitazone          0.855607     0.986704  0.984961   0.873004\n",
       " SC_isomer                0.882497     0.933386  0.900714   0.882497\n",
       " SC_CNS                   1.000000     1.000000  1.000000   1.000000)"
      ]
     },
     "execution_count": 13,
     "metadata": {},
     "output_type": "execute_result"
    }
   ],
   "source": [
    "df_moses_wo_prop_s10, df_moses_wa_prop_s10, df_moses_wc_prop_s10"
   ]
  },
  {
   "cell_type": "code",
   "execution_count": 14,
   "metadata": {},
   "outputs": [
    {
     "data": {
      "text/plain": [
       "(                  best_from_chembl  smiles_lstm  graph_ga  smiles_ga\n",
       " Pioglitazone MPO          0.983813     0.994383       NaN        NaN\n",
       " QED                       0.948212     0.948300  0.948212   0.948212\n",
       " C7H8N2O2                  1.000000     1.000000  1.000000   1.000000\n",
       " CNS MPO                   1.000000     1.000000  1.000000   1.000000,\n",
       "                  best_from_chembl  smiles_lstm  graph_ga  smiles_ga\n",
       " SA_pioglitazone          0.936363     0.973489  0.953875   0.939517\n",
       " SA_QED                   0.948126     0.948203  0.948126   0.948137\n",
       " SA_CNS                   1.000000     1.000000  1.000000   1.000000\n",
       " SA_isomer                1.000000     1.000000  1.000000   1.000000,\n",
       "                  best_from_chembl  smiles_lstm  graph_ga  smiles_ga\n",
       " SC_QED                   0.947857     0.948274  0.948051   0.947946\n",
       " SC_pioglitazone          0.977070     0.990574  0.979852   0.980870\n",
       " SC_isomer                1.000000     1.000000  1.000000   1.000000\n",
       " SC_CNS                   1.000000     1.000000  1.000000   1.000000)"
      ]
     },
     "execution_count": 14,
     "metadata": {},
     "output_type": "execute_result"
    }
   ],
   "source": [
    "df_chembl_wo_prop_s10, df_chembl_wa_prop_s10, df_chembl_wc_prop_s10"
   ]
  },
  {
   "cell_type": "markdown",
   "metadata": {},
   "source": [
    "# Hard Goals"
   ]
  },
  {
   "cell_type": "code",
   "execution_count": 15,
   "metadata": {},
   "outputs": [],
   "source": [
    "file_path = 'data/chembl_wa.csv'\n",
    "df = pd.read_csv(file_path)\n",
    "df['property'] = df.property.apply(normal)\n",
    "df.to_csv(file_path, index=False)\n",
    "\n",
    "file_path = 'data/chembl_wc.csv'\n",
    "df = pd.read_csv(file_path)\n",
    "df['property'] = df.property.apply(normal)\n",
    "df.to_csv(file_path, index=False)\n",
    "\n",
    "file_path = 'data/moses_wa.csv'\n",
    "df = pd.read_csv(file_path)\n",
    "df['property'] = df.property.apply(normal)\n",
    "df.to_csv(file_path, index=False)\n",
    "\n",
    "file_path = 'data/moses_wc.csv'\n",
    "df = pd.read_csv(file_path)\n",
    "df['property'] = df.property.apply(normal)\n",
    "df.to_csv(file_path, index=False)"
   ]
  },
  {
   "cell_type": "code",
   "execution_count": 13,
   "metadata": {},
   "outputs": [],
   "source": [
    "df = pd.read_csv('data/goal_hard_cwo.csv')\n",
    "df = calc_prop(df, 'v4')\n",
    "df['property'] = df.property.apply(normal)\n",
    "df['dataset'] = 'chembl'\n",
    "df['type'] = 'wo'\n",
    "df.to_csv('data/goal_hard_cwo.csv', index=False)\n",
    "\n",
    "df = pd.read_csv('data/goal_hard_cwa.csv')\n",
    "df = calc_prop(df, 'v3')\n",
    "df['property'] = df.property.apply(normal)\n",
    "df['dataset'] = 'chembl'\n",
    "df['type'] = 'wa'\n",
    "df.to_csv('data/goal_hard_cwa.csv', index=False)\n",
    "\n",
    "df = pd.read_csv('data/goal_hard_cwc.csv')\n",
    "df = calc_prop(df, 'v5')\n",
    "df['property'] = df.property.apply(normal)\n",
    "df['dataset'] = 'chembl'\n",
    "df['type'] = 'wc'\n",
    "df.to_csv('data/goal_hard_cwc.csv', index=False)\n",
    "\n",
    "\n",
    "\n",
    "df = pd.read_csv('data/goal_hard_mwo.csv')\n",
    "df = calc_prop(df, 'v4')\n",
    "df['property'] = df.property.apply(normal)\n",
    "df['dataset'] = 'moses'\n",
    "df['type'] = 'wo'\n",
    "df.to_csv('data/goal_hard_mwo.csv', index=False)\n",
    "\n",
    "df = pd.read_csv('data/goal_hard_mwa.csv')\n",
    "df = calc_prop(df, 'v3')\n",
    "df['property'] = df.property.apply(normal)\n",
    "df['dataset'] = 'moses'\n",
    "df['type'] = 'wa'\n",
    "df.to_csv('data/goal_hard_mwa.csv', index=False)\n",
    "\n",
    "df = pd.read_csv('data/goal_hard_mwc.csv')\n",
    "df = calc_prop(df, 'v5')\n",
    "df['property'] = df.property.apply(normal)\n",
    "df['dataset'] = 'moses'\n",
    "df['type'] = 'wc'\n",
    "df.to_csv('data/goal_hard_mwc.csv', index=False)"
   ]
  },
  {
   "cell_type": "code",
   "execution_count": null,
   "metadata": {},
   "outputs": [],
   "source": []
  },
  {
   "cell_type": "code",
   "execution_count": 15,
   "metadata": {},
   "outputs": [
    {
     "data": {
      "text/plain": [
       "(                  best_from_chembl  smiles_lstm  graph_ga  smiles_ga\n",
       " Valsartan SMARTS          0.015936     0.873721  0.838802   0.766260\n",
       " Ranolazine MPO            0.775758     0.828646  0.900122   0.853034\n",
       " Osimertinib MPO           0.822454     0.893884  0.937169   0.877664\n",
       " Scaffold Hop              0.588835     0.999597  1.000000   0.882034\n",
       " Perindopril MPO           0.528279     0.744189  0.772750   0.643735\n",
       " Amlodipine MPO            0.665359     0.874516  0.867516   0.716947\n",
       " Deco Hop                  0.906690     0.992215  0.992857   0.935911\n",
       " Sitagliptin MPO           0.418583     0.453154  0.812724   0.523086\n",
       " Zaleplon MPO              0.510365     0.568419  0.685400   0.510385\n",
       " Fexofenadine MPO          0.773313     0.900022  0.976829   0.889327,\n",
       "                   best_from_chembl  smiles_lstm  graph_ga  smiles_ga\n",
       " Valsartan SMARTS          0.120667     0.961989  0.699917        NaN\n",
       " Ranolazine MPO            0.793950     0.842266       NaN        NaN\n",
       " Scaffold Hop              0.798756     1.000000  1.000000        NaN\n",
       " Perindopril MPO           0.579727     0.772801       NaN        NaN\n",
       " Zaleplon MPO              0.544276     0.602035  0.715690   0.544276\n",
       " Amlodipine MPO            0.681506     0.889076  0.874044        NaN\n",
       " Deco Hop                  0.927942     0.999211  0.992857        NaN\n",
       " Sitagliptin MPO           0.468833     0.495205       NaN   0.493615\n",
       " Osimertinib MPO           0.837997     0.899480  0.938566        NaN\n",
       " Fexofenadine MPO          0.814756     0.918130  0.978161   0.890046)"
      ]
     },
     "execution_count": 15,
     "metadata": {},
     "output_type": "execute_result"
    }
   ],
   "source": [
    "df_hard_cwo = pd.read_csv('./goal_hard_cwo.csv')\n",
    "df_hard_cwo = calc_prop(df_hard_cwo, 'v4')\n",
    "df_hard_cwo['property'] = df_hard_cwo.property.apply(normal)\n",
    "df_hard_cwo_prop = calc_avg(df_hard_cwo, 100, 'property', 'method')\n",
    "df_hard_cwo_synth = make_synth_data(df_hard_cwo)\n",
    "df_hard_cwo_prop_s10 = calc_avg(df_hard_cwo_synth, 10, 'property', 'method')\n",
    "df_hard_cwo_prop, df_hard_cwo_prop_s10"
   ]
  },
  {
   "cell_type": "code",
   "execution_count": 16,
   "metadata": {},
   "outputs": [
    {
     "data": {
      "text/plain": [
       "(                  best_from_chembl  smiles_lstm  graph_ga  smiles_ga\n",
       " Valsartan SMARTS          0.015936     0.828043  0.721992   0.405988\n",
       " Ranolazine MPO            0.695816     0.837944  0.846683   0.719544\n",
       " Osimertinib MPO           0.810687     0.874185  0.866331   0.812308\n",
       " Scaffold Hop              0.564387     0.974514  0.857905   0.578170\n",
       " Perindopril MPO           0.479667     0.574351  0.544825   0.483293\n",
       " Deco Hop                  0.899436     1.000000  0.948827   0.904375\n",
       " Amlodipine MPO            0.583404     0.790425  0.668503   0.591385\n",
       " Sitagliptin MPO           0.378961     0.460299  0.508205   0.385091\n",
       " Zaleplon MPO              0.506932     0.561878  0.640941   0.508097\n",
       " Fexofenadine MPO          0.730816     0.895169  0.886391   0.735520,\n",
       "                   best_from_chembl  smiles_lstm  graph_ga  smiles_ga\n",
       " Valsartan SMARTS          0.120667     0.966428       NaN   0.545985\n",
       " Ranolazine MPO            0.748353     0.848422  0.860392   0.773438\n",
       " Scaffold Hop              0.795096     0.987099       NaN   0.799593\n",
       " Perindopril MPO           0.501124     0.578752  0.558813   0.500707\n",
       " Zaleplon MPO              0.544276     0.593517  0.692058   0.544276\n",
       " Deco Hop                  0.927308     1.000000       NaN   0.927308\n",
       " Amlodipine MPO            0.652909     0.804881  0.707745   0.654008\n",
       " Sitagliptin MPO           0.455174     0.523705  0.514308   0.455174\n",
       " Osimertinib MPO           0.831943     0.880034  0.884669   0.831943\n",
       " Fexofenadine MPO          0.783822     0.914259  0.914968   0.788900)"
      ]
     },
     "execution_count": 16,
     "metadata": {},
     "output_type": "execute_result"
    }
   ],
   "source": [
    "df_hard_cwa = pd.read_csv('./goal_hard_cwa.csv')\n",
    "df_hard_cwa = calc_prop(df_hard_cwa, 'v3')\n",
    "df_hard_cwa['property'] = df_hard_cwa.property.apply(normal)\n",
    "df_hard_cwa_prop = calc_avg(df_hard_cwa, 100, 'property', 'method')\n",
    "df_hard_cwa_synth = make_synth_data(df_hard_cwa)\n",
    "df_hard_cwa_prop_s10 = calc_avg(df_hard_cwa_synth, 10, 'property', 'method')\n",
    "df_hard_cwa_prop, df_hard_cwa_prop_s10"
   ]
  },
  {
   "cell_type": "code",
   "execution_count": 17,
   "metadata": {},
   "outputs": [
    {
     "data": {
      "text/plain": [
       "(                  best_from_chembl  smiles_lstm  graph_ga  smiles_ga\n",
       " Valsartan SMARTS          0.018043     0.284916  0.637462   0.479398\n",
       " Ranolazine MPO            0.259968     0.733014  0.804408   0.283861\n",
       " Osimertinib MPO           0.804416     0.857632  0.850937   0.805274\n",
       " Scaffold Hop              0.510622     0.628595  0.657563   0.512844\n",
       " Perindopril MPO           0.471479     0.592385  0.540456   0.473997\n",
       " Deco Hop                  0.805685     0.945404  0.965489   0.873575\n",
       " Amlodipine MPO            0.569193     0.692516  0.624295   0.570489\n",
       " Sitagliptin MPO           0.426928     0.480587  0.432271   0.430869\n",
       " Zaleplon MPO              0.533761     0.588384  0.536939   0.534210\n",
       " Fexofenadine MPO          0.656144     0.783185  0.838471   0.657386,\n",
       "                   best_from_chembl  smiles_lstm  graph_ga  smiles_ga\n",
       " Valsartan SMARTS          0.174960     0.730553  0.859268   0.360103\n",
       " Ranolazine MPO            0.301147     0.761119  0.822464   0.329473\n",
       " Scaffold Hop              0.568489     0.658727  0.666667   0.568489\n",
       " Perindopril MPO           0.498858     0.591991  0.551840   0.498659\n",
       " Zaleplon MPO              0.560597     0.613981  0.564936   0.560597\n",
       " Deco Hop                  0.896295     0.954197  0.982744   0.911406\n",
       " Amlodipine MPO            0.604405     0.726218  0.641838   0.604659\n",
       " Sitagliptin MPO           0.484028     0.532463  0.501896   0.486784\n",
       " Osimertinib MPO           0.824141     0.867240  0.864169   0.826050\n",
       " Fexofenadine MPO          0.674231     0.806677  0.866259   0.675265)"
      ]
     },
     "execution_count": 17,
     "metadata": {},
     "output_type": "execute_result"
    }
   ],
   "source": [
    "df_hard_mwa = pd.read_csv('./goal_hard_mwa.csv')\n",
    "df_hard_mwa = calc_prop(df_hard_mwa, 'v3')\n",
    "df_hard_mwa['property'] = df_hard_mwa.property.apply(normal)\n",
    "df_hard_mwa_prop = calc_avg(df_hard_mwa, 100, 'property', 'method')\n",
    "df_hard_mwa_synth = make_synth_data(df_hard_mwa)\n",
    "df_hard_mwa_prop_s10 = calc_avg(df_hard_mwa_synth, 10, 'property', 'method')\n",
    "df_hard_mwa_prop, df_hard_mwa_prop_s10"
   ]
  },
  {
   "cell_type": "code",
   "execution_count": 18,
   "metadata": {},
   "outputs": [
    {
     "data": {
      "text/plain": [
       "(                  best_from_chembl  smiles_lstm  graph_ga  smiles_ga\n",
       " Valsartan SMARTS          0.018043     0.383731  0.648990   0.604266\n",
       " Ranolazine MPO            0.273755     0.713389  0.897242   0.840541\n",
       " Osimertinib MPO           0.806352     0.853857  0.895202   0.846173\n",
       " Scaffold Hop              0.523837     0.640842  0.879675   0.737785\n",
       " Perindopril MPO           0.489945     0.652880  0.750985   0.534619\n",
       " Amlodipine MPO            0.624308     0.779609  0.805464   0.645190\n",
       " Deco Hop                  0.809944     0.947448  0.937725   0.952386\n",
       " Sitagliptin MPO           0.444196     0.486152  0.757202   0.444262\n",
       " Zaleplon MPO              0.537056     0.583651  0.633178   0.537629\n",
       " Fexofenadine MPO          0.664158     0.839374  0.882355   0.724087,\n",
       "                   best_from_chembl  smiles_lstm  graph_ga  smiles_ga\n",
       " Valsartan SMARTS          0.174960     0.802914  0.819675   0.478437\n",
       " Ranolazine MPO            0.311792     0.726074       NaN        NaN\n",
       " Scaffold Hop              0.570916     0.671248  0.879675   0.736343\n",
       " Perindopril MPO           0.512712     0.673827  0.748831   0.534522\n",
       " Zaleplon MPO              0.567255     0.601912  0.650202   0.568799\n",
       " Amlodipine MPO            0.656955     0.778640  0.821789   0.663432\n",
       " Deco Hop                  0.896295     0.955440  0.937590        NaN\n",
       " Sitagliptin MPO           0.484311     0.537683       NaN   0.489819\n",
       " Osimertinib MPO           0.824699     0.864211  0.897431        NaN\n",
       " Fexofenadine MPO          0.685173     0.873538       NaN   0.725258)"
      ]
     },
     "execution_count": 18,
     "metadata": {},
     "output_type": "execute_result"
    }
   ],
   "source": [
    "df_hard_mwo = pd.read_csv('./goal_hard_mwo.csv')\n",
    "df_hard_mwo = calc_prop(df_hard_mwo, 'v4')\n",
    "df_hard_mwo['property'] = df_hard_mwo.property.apply(normal)\n",
    "df_hard_mwo_prop = calc_avg(df_hard_mwo, 100, 'property', 'method')\n",
    "df_hard_mwo_synth = make_synth_data(df_hard_mwo)\n",
    "df_hard_mwo_prop_s10 = calc_avg(df_hard_mwo_synth, 10, 'property', 'method')\n",
    "df_hard_mwo_prop, df_hard_mwo_prop_s10"
   ]
  },
  {
   "cell_type": "code",
   "execution_count": 19,
   "metadata": {},
   "outputs": [
    {
     "data": {
      "text/plain": [
       "(                  best_from_chembl  smiles_lstm  graph_ga  smiles_ga\n",
       " Valsartan SMARTS          0.018043     0.135704  0.131144   0.023965\n",
       " Ranolazine MPO            0.205886     0.782010  0.767990   0.447890\n",
       " Osimertinib MPO           0.766550     0.849344  0.836323   0.769372\n",
       " Scaffold Hop              0.457580     0.606372  0.533443   0.458541\n",
       " Perindopril MPO           0.436786     0.604643  0.605988   0.438526\n",
       " Amlodipine MPO            0.570732     0.768582  0.734678   0.575813\n",
       " Deco Hop                  0.585112     0.928075  0.885909   0.586052\n",
       " Sitagliptin MPO           0.320806     0.426588  0.323472   0.322256\n",
       " Zaleplon MPO              0.475550     0.566461  0.480940   0.476864\n",
       " Fexofenadine MPO          0.608377     0.862974  0.833231   0.628518,\n",
       "                   best_from_chembl  smiles_lstm  graph_ga  smiles_ga\n",
       " Valsartan SMARTS          0.174960     0.534448  0.403565   0.174960\n",
       " Ranolazine MPO            0.252776     0.798258       NaN        NaN\n",
       " Scaffold Hop              0.479182     0.625511  0.533813   0.480049\n",
       " Perindopril MPO           0.462014     0.608458       NaN   0.462634\n",
       " Zaleplon MPO              0.498671     0.602211  0.508122   0.500251\n",
       " Amlodipine MPO            0.634476     0.770032  0.735021   0.634476\n",
       " Deco Hop                  0.624115     0.951265  0.888175   0.624115\n",
       " Sitagliptin MPO           0.359209     0.491462  0.364473   0.359209\n",
       " Osimertinib MPO           0.784286     0.860821  0.832409   0.786563\n",
       " Fexofenadine MPO          0.641679     0.889662       NaN   0.649217)"
      ]
     },
     "execution_count": 19,
     "metadata": {},
     "output_type": "execute_result"
    }
   ],
   "source": [
    "df_hard_mwc = pd.read_csv('./goal_hard_mwc.csv')\n",
    "df_hard_mwc = calc_prop(df_hard_mwc, 'v5')\n",
    "df_hard_mwc['property'] = df_hard_mwc.property.apply(normal)\n",
    "df_hard_mwc_prop = calc_avg(df_hard_mwc, 100, 'property', 'method')\n",
    "df_hard_mwc_synth = make_synth_data(df_hard_mwc)\n",
    "df_hard_mwc_prop_s10 = calc_avg(df_hard_mwc_synth, 10, 'property', 'method')\n",
    "df_hard_mwc_prop, df_hard_mwc_prop_s10"
   ]
  },
  {
   "cell_type": "code",
   "execution_count": null,
   "metadata": {},
   "outputs": [],
   "source": []
  },
  {
   "cell_type": "code",
   "execution_count": null,
   "metadata": {},
   "outputs": [],
   "source": []
  },
  {
   "cell_type": "code",
   "execution_count": null,
   "metadata": {},
   "outputs": [],
   "source": []
  },
  {
   "cell_type": "code",
   "execution_count": null,
   "metadata": {},
   "outputs": [],
   "source": []
  },
  {
   "cell_type": "code",
   "execution_count": 20,
   "metadata": {},
   "outputs": [],
   "source": [
    "index =  ['SA_logP_target', 'SA_osimertinib', 'SA_fexofenadine', 'SA_Ranolazine', \n",
    "                          'SA_perindopril', 'SA_amlodipine', 'SA_sitagliptin', 'SA_zaleplon',\n",
    "                          'SA_valsartan', 'SA_scaffold_hop', 'SA_decoration_hop']\n",
    "\n",
    "columns = ['best_from_chembl', 'graph_ga', 'smiles_lstm', 'smiles_ga']"
   ]
  },
  {
   "cell_type": "code",
   "execution_count": 21,
   "metadata": {},
   "outputs": [],
   "source": [
    "data = [\n",
    "    [1, 1, 1, 1],\n",
    "    [0.839, 0.953, 0.907, 0.886],\n",
    "    [0.817, 0.998, 0.959, 0.931],\n",
    "    [0.792, 0.92, 0.855, 0.881],\n",
    "    [0.575, 0.792, 0.808, 0.661],\n",
    "    [0.696, 0.894, 0.894, 0.722],\n",
    "    [0.509, 0.891, 0.545, 0.689],\n",
    "    [0.547, 0.754, 0.669, 0.413],\n",
    "    [0.259, 0.99, 0.978, 0.552],\n",
    "    [0.933, 1, 0.996, 0.97],\n",
    "    [0.738, 1, 0.998, 0.885]\n",
    "]"
   ]
  },
  {
   "cell_type": "code",
   "execution_count": 22,
   "metadata": {},
   "outputs": [],
   "source": [
    "df_original_top100 = pd.DataFrame(data, index=index, columns=columns)"
   ]
  },
  {
   "cell_type": "code",
   "execution_count": 23,
   "metadata": {},
   "outputs": [
    {
     "ename": "NameError",
     "evalue": "name 'df_hard_prop_s10' is not defined",
     "output_type": "error",
     "traceback": [
      "\u001b[0;31m---------------------------------------------------------------------------\u001b[0m",
      "\u001b[0;31mNameError\u001b[0m                                 Traceback (most recent call last)",
      "\u001b[0;32m<ipython-input-23-03ab8bde5a88>\u001b[0m in \u001b[0;36m<module>\u001b[0;34m\u001b[0m\n\u001b[0;32m----> 1\u001b[0;31m \u001b[0mdf_original_top100\u001b[0m\u001b[0;34m,\u001b[0m \u001b[0mdf_hard_prop_s10\u001b[0m\u001b[0;34m\u001b[0m\u001b[0m\n\u001b[0m",
      "\u001b[0;31mNameError\u001b[0m: name 'df_hard_prop_s10' is not defined"
     ]
    }
   ],
   "source": [
    "df_original_top100, df_hard_prop_s10"
   ]
  },
  {
   "cell_type": "code",
   "execution_count": null,
   "metadata": {},
   "outputs": [],
   "source": [
    "change = df_hard_prop_s10 - df_original_top100\n",
    "change"
   ]
  }
 ],
 "metadata": {
  "kernelspec": {
   "display_name": "Python 3",
   "language": "python",
   "name": "python3"
  },
  "language_info": {
   "codemirror_mode": {
    "name": "ipython",
    "version": 3
   },
   "file_extension": ".py",
   "mimetype": "text/x-python",
   "name": "python",
   "nbconvert_exporter": "python",
   "pygments_lexer": "ipython3",
   "version": "3.7.6"
  }
 },
 "nbformat": 4,
 "nbformat_minor": 4
}
