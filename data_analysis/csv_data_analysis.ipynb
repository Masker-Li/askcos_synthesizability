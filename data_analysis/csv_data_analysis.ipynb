{
 "cells": [
  {
   "cell_type": "code",
   "execution_count": 2,
   "metadata": {},
   "outputs": [
    {
     "name": "stderr",
     "output_type": "stream",
     "text": [
      "Traceback (most recent call last):\n",
      "  File \"/Users/gaowh/anaconda3/envs/rdkit/lib/python3.6/site-packages/rdkit/Chem/PandasTools.py\", line 130, in <module>\n",
      "    if 'display.width' in pd.core.config._registered_options:\n",
      "AttributeError: module 'pandas.core' has no attribute 'config'\n"
     ]
    }
   ],
   "source": [
    "import pandas as pd\n",
    "import numpy as np\n",
    "import matplotlib as mpl\n",
    "import sys\n",
    "import os\n",
    "import matplotlib.pyplot as plt\n",
    "import matplotlib\n",
    "%matplotlib inline\n",
    "import json\n",
    "import pickle\n",
    "from pprint import pprint\n",
    "\n",
    "from rdkit import rdBase, Chem\n",
    "from rdkit.Chem import AllChem, Draw, PandasTools\n",
    "from rdkit.Chem.Draw import IPythonConsole\n",
    "\n",
    "import seaborn as sns\n",
    "from mpl_toolkits import mplot3d\n",
    "# import plotly.express as px\n",
    "sns.set_style(\"whitegrid\")"
   ]
  },
  {
   "cell_type": "code",
   "execution_count": 19,
   "metadata": {},
   "outputs": [],
   "source": [
    "df_datasets = pd.read_csv('./datasets.csv')"
   ]
  },
  {
   "cell_type": "code",
   "execution_count": 20,
   "metadata": {},
   "outputs": [
    {
     "data": {
      "text/html": [
       "<div>\n",
       "<style scoped>\n",
       "    .dataframe tbody tr th:only-of-type {\n",
       "        vertical-align: middle;\n",
       "    }\n",
       "\n",
       "    .dataframe tbody tr th {\n",
       "        vertical-align: top;\n",
       "    }\n",
       "\n",
       "    .dataframe thead th {\n",
       "        text-align: right;\n",
       "    }\n",
       "</style>\n",
       "<table border=\"1\" class=\"dataframe\">\n",
       "  <thead>\n",
       "    <tr style=\"text-align: right;\">\n",
       "      <th></th>\n",
       "      <th>SMILES</th>\n",
       "      <th>dataset</th>\n",
       "      <th>len_smiles</th>\n",
       "      <th>sa_score</th>\n",
       "      <th>sc_score</th>\n",
       "      <th>tb_depth</th>\n",
       "      <th>tb_plausibility</th>\n",
       "      <th>tb_price</th>\n",
       "      <th>tb_synthesizability</th>\n",
       "    </tr>\n",
       "  </thead>\n",
       "  <tbody>\n",
       "    <tr>\n",
       "      <td>0</td>\n",
       "      <td>Cc1occc1CN(C)C(=O)c1cc(Br)c[nH]1</td>\n",
       "      <td>moses</td>\n",
       "      <td>32</td>\n",
       "      <td>2.595324</td>\n",
       "      <td>3.386202</td>\n",
       "      <td>3</td>\n",
       "      <td>0.967149</td>\n",
       "      <td>139.0</td>\n",
       "      <td>1</td>\n",
       "    </tr>\n",
       "    <tr>\n",
       "      <td>1</td>\n",
       "      <td>CC(OCC(F)(F)F)C(=O)Nc1ccc(Br)cc1O</td>\n",
       "      <td>moses</td>\n",
       "      <td>33</td>\n",
       "      <td>2.748776</td>\n",
       "      <td>2.504700</td>\n",
       "      <td>4</td>\n",
       "      <td>0.955559</td>\n",
       "      <td>17.0</td>\n",
       "      <td>1</td>\n",
       "    </tr>\n",
       "    <tr>\n",
       "      <td>2</td>\n",
       "      <td>CC1CCCC(N(C)C(=O)NC(C)C2CCCO2)C1</td>\n",
       "      <td>moses</td>\n",
       "      <td>32</td>\n",
       "      <td>3.622987</td>\n",
       "      <td>3.823689</td>\n",
       "      <td>2</td>\n",
       "      <td>0.976041</td>\n",
       "      <td>71.0</td>\n",
       "      <td>1</td>\n",
       "    </tr>\n",
       "    <tr>\n",
       "      <td>3</td>\n",
       "      <td>COCC(=O)Nc1ccc(CCC(=O)N2CCCC2)cc1</td>\n",
       "      <td>moses</td>\n",
       "      <td>33</td>\n",
       "      <td>1.745127</td>\n",
       "      <td>3.117510</td>\n",
       "      <td>2</td>\n",
       "      <td>0.999554</td>\n",
       "      <td>12.0</td>\n",
       "      <td>1</td>\n",
       "    </tr>\n",
       "    <tr>\n",
       "      <td>4</td>\n",
       "      <td>O=S(=O)(CCn1nnc2ccccc21)NCc1ccccc1</td>\n",
       "      <td>moses</td>\n",
       "      <td>34</td>\n",
       "      <td>2.065714</td>\n",
       "      <td>2.405881</td>\n",
       "      <td>4</td>\n",
       "      <td>0.882357</td>\n",
       "      <td>5.0</td>\n",
       "      <td>1</td>\n",
       "    </tr>\n",
       "  </tbody>\n",
       "</table>\n",
       "</div>"
      ],
      "text/plain": [
       "                               SMILES dataset  len_smiles  sa_score  sc_score  \\\n",
       "0    Cc1occc1CN(C)C(=O)c1cc(Br)c[nH]1   moses          32  2.595324  3.386202   \n",
       "1   CC(OCC(F)(F)F)C(=O)Nc1ccc(Br)cc1O   moses          33  2.748776  2.504700   \n",
       "2    CC1CCCC(N(C)C(=O)NC(C)C2CCCO2)C1   moses          32  3.622987  3.823689   \n",
       "3   COCC(=O)Nc1ccc(CCC(=O)N2CCCC2)cc1   moses          33  1.745127  3.117510   \n",
       "4  O=S(=O)(CCn1nnc2ccccc21)NCc1ccccc1   moses          34  2.065714  2.405881   \n",
       "\n",
       "   tb_depth  tb_plausibility  tb_price  tb_synthesizability  \n",
       "0         3         0.967149     139.0                    1  \n",
       "1         4         0.955559      17.0                    1  \n",
       "2         2         0.976041      71.0                    1  \n",
       "3         2         0.999554      12.0                    1  \n",
       "4         4         0.882357       5.0                    1  "
      ]
     },
     "execution_count": 20,
     "metadata": {},
     "output_type": "execute_result"
    }
   ],
   "source": [
    "df_datasets.head()"
   ]
  },
  {
   "cell_type": "code",
   "execution_count": 3,
   "metadata": {},
   "outputs": [],
   "source": [
    "def count_plot(df, x1, x2):\n",
    "    x1_candidate = list(set(df[x1]))\n",
    "    x2_candidate = list(set(df[x2]))\n",
    "    data = np.zeros([len(x1_candidate), len(x2_candidate)])\n",
    "    for i in range(len(x1_candidate)):\n",
    "        for j in range(len(x2_candidate)):\n",
    "            data[i][j] = len(df[df[x1] == x1_candidate[i]][df[x2] == x2_candidate[j]])\n",
    "            \n",
    "    return pd.DataFrame(data, columns=x2_candidate, index=x1_candidate)\n",
    "    \n",
    "def normalize(df, axis=1):\n",
    "    if -1 in df.columns:\n",
    "        n_sum = np.array(list(df.sum(axis) - df[-1]))\n",
    "    else:\n",
    "        n_sum = np.array(list(df.sum(axis)))\n",
    "\n",
    "    if axis == 1:\n",
    "        return df / n_sum.reshape(-1, 1)\n",
    "    elif axis == 0:\n",
    "        return df / n_sum.reshape(1, -1)"
   ]
  },
  {
   "cell_type": "code",
   "execution_count": 24,
   "metadata": {},
   "outputs": [
    {
     "name": "stderr",
     "output_type": "stream",
     "text": [
      "/Users/gaowh/anaconda3/envs/rdkit/lib/python3.6/site-packages/ipykernel_launcher.py:7: UserWarning: Boolean Series key will be reindexed to match DataFrame index.\n",
      "  import sys\n"
     ]
    }
   ],
   "source": [
    "df_data_count = count_plot(df_datasets, 'dataset', 'tb_depth')\n",
    "df_data_count = normalize(df, axis=1)"
   ]
  },
  {
   "cell_type": "code",
   "execution_count": 25,
   "metadata": {},
   "outputs": [
    {
     "data": {
      "text/html": [
       "<div>\n",
       "<style scoped>\n",
       "    .dataframe tbody tr th:only-of-type {\n",
       "        vertical-align: middle;\n",
       "    }\n",
       "\n",
       "    .dataframe tbody tr th {\n",
       "        vertical-align: top;\n",
       "    }\n",
       "\n",
       "    .dataframe thead th {\n",
       "        text-align: right;\n",
       "    }\n",
       "</style>\n",
       "<table border=\"1\" class=\"dataframe\">\n",
       "  <thead>\n",
       "    <tr style=\"text-align: right;\">\n",
       "      <th></th>\n",
       "      <th>0</th>\n",
       "      <th>1</th>\n",
       "      <th>2</th>\n",
       "      <th>3</th>\n",
       "      <th>4</th>\n",
       "      <th>5</th>\n",
       "      <th>6</th>\n",
       "      <th>7</th>\n",
       "      <th>8</th>\n",
       "      <th>9</th>\n",
       "      <th>10</th>\n",
       "      <th>11</th>\n",
       "      <th>-1</th>\n",
       "    </tr>\n",
       "  </thead>\n",
       "  <tbody>\n",
       "    <tr>\n",
       "      <td>moses</td>\n",
       "      <td>0.000333</td>\n",
       "      <td>0.208333</td>\n",
       "      <td>0.224333</td>\n",
       "      <td>0.184000</td>\n",
       "      <td>0.106667</td>\n",
       "      <td>0.071000</td>\n",
       "      <td>0.042000</td>\n",
       "      <td>0.029667</td>\n",
       "      <td>0.014000</td>\n",
       "      <td>0.012333</td>\n",
       "      <td>0.005000</td>\n",
       "      <td>0.102333</td>\n",
       "      <td>0.000000</td>\n",
       "    </tr>\n",
       "    <tr>\n",
       "      <td>gdb</td>\n",
       "      <td>0.000000</td>\n",
       "      <td>0.000000</td>\n",
       "      <td>0.001667</td>\n",
       "      <td>0.002333</td>\n",
       "      <td>0.006333</td>\n",
       "      <td>0.004000</td>\n",
       "      <td>0.005000</td>\n",
       "      <td>0.006333</td>\n",
       "      <td>0.005000</td>\n",
       "      <td>0.002667</td>\n",
       "      <td>0.001000</td>\n",
       "      <td>0.965667</td>\n",
       "      <td>0.000000</td>\n",
       "    </tr>\n",
       "    <tr>\n",
       "      <td>zinc</td>\n",
       "      <td>0.001963</td>\n",
       "      <td>0.130236</td>\n",
       "      <td>0.150524</td>\n",
       "      <td>0.123037</td>\n",
       "      <td>0.076571</td>\n",
       "      <td>0.043194</td>\n",
       "      <td>0.039921</td>\n",
       "      <td>0.021597</td>\n",
       "      <td>0.009162</td>\n",
       "      <td>0.009162</td>\n",
       "      <td>0.005236</td>\n",
       "      <td>0.389398</td>\n",
       "      <td>0.963351</td>\n",
       "    </tr>\n",
       "    <tr>\n",
       "      <td>guacamol</td>\n",
       "      <td>0.009333</td>\n",
       "      <td>0.126000</td>\n",
       "      <td>0.130333</td>\n",
       "      <td>0.107000</td>\n",
       "      <td>0.095667</td>\n",
       "      <td>0.067333</td>\n",
       "      <td>0.050667</td>\n",
       "      <td>0.041333</td>\n",
       "      <td>0.026667</td>\n",
       "      <td>0.017667</td>\n",
       "      <td>0.010667</td>\n",
       "      <td>0.317333</td>\n",
       "      <td>0.000000</td>\n",
       "    </tr>\n",
       "  </tbody>\n",
       "</table>\n",
       "</div>"
      ],
      "text/plain": [
       "                0         1         2         3         4         5   \\\n",
       "moses     0.000333  0.208333  0.224333  0.184000  0.106667  0.071000   \n",
       "gdb       0.000000  0.000000  0.001667  0.002333  0.006333  0.004000   \n",
       "zinc      0.001963  0.130236  0.150524  0.123037  0.076571  0.043194   \n",
       "guacamol  0.009333  0.126000  0.130333  0.107000  0.095667  0.067333   \n",
       "\n",
       "                6         7         8         9         10        11       -1   \n",
       "moses     0.042000  0.029667  0.014000  0.012333  0.005000  0.102333  0.000000  \n",
       "gdb       0.005000  0.006333  0.005000  0.002667  0.001000  0.965667  0.000000  \n",
       "zinc      0.039921  0.021597  0.009162  0.009162  0.005236  0.389398  0.963351  \n",
       "guacamol  0.050667  0.041333  0.026667  0.017667  0.010667  0.317333  0.000000  "
      ]
     },
     "execution_count": 25,
     "metadata": {},
     "output_type": "execute_result"
    }
   ],
   "source": [
    "df_data_count"
   ]
  },
  {
   "cell_type": "code",
   "execution_count": 26,
   "metadata": {},
   "outputs": [
    {
     "data": {
      "image/png": "[encoded data removed]",
      "text/plain": [
       "<Figure size 1152x864 with 1 Axes>"
      ]
     },
     "metadata": {
      "needs_background": "light"
     },
     "output_type": "display_data"
    }
   ],
   "source": [
    "fig = plt.figure(figsize=[16, 12])\n",
    "plt.bar(list(df_data_count.index), np.array(df_data_count[0]), label='0')\n",
    "accum = np.array(df_data_count[0])\n",
    "for i in range(1, len(df_data_count.columns)-2):\n",
    "    col_name = df_data_count.columns[i]\n",
    "    plt.bar(list(df_data_count.index), np.array(df_data_count[col_name]), bottom=accum, label=str(col_name))\n",
    "    accum = accum + np.array(df_data_count[col_name])\n",
    "    \n",
    "plt.legend()\n",
    "plt.show()\n",
    "fig.savefig('./datasets.png')"
   ]
  },
  {
   "cell_type": "code",
   "execution_count": 28,
   "metadata": {},
   "outputs": [
    {
     "data": {
      "text/html": [
       "<div>\n",
       "<style scoped>\n",
       "    .dataframe tbody tr th:only-of-type {\n",
       "        vertical-align: middle;\n",
       "    }\n",
       "\n",
       "    .dataframe tbody tr th {\n",
       "        vertical-align: top;\n",
       "    }\n",
       "\n",
       "    .dataframe thead th {\n",
       "        text-align: right;\n",
       "    }\n",
       "</style>\n",
       "<table border=\"1\" class=\"dataframe\">\n",
       "  <thead>\n",
       "    <tr style=\"text-align: right;\">\n",
       "      <th></th>\n",
       "      <th>SMILES</th>\n",
       "      <th>tb_synthesizability</th>\n",
       "      <th>tb_depth</th>\n",
       "      <th>tb_plausibility</th>\n",
       "      <th>tb_price</th>\n",
       "      <th>mean_complexity</th>\n",
       "      <th>sa_score</th>\n",
       "      <th>sc_score</th>\n",
       "      <th>len_smiles</th>\n",
       "    </tr>\n",
       "  </thead>\n",
       "  <tbody>\n",
       "    <tr>\n",
       "      <td>0</td>\n",
       "      <td>CN(C)CCCN1c2ccccc2CCc2ccccc12</td>\n",
       "      <td>1</td>\n",
       "      <td>0</td>\n",
       "      <td>1.000000</td>\n",
       "      <td>7.0</td>\n",
       "      <td>1.938462</td>\n",
       "      <td>1.9331</td>\n",
       "      <td>3.0930</td>\n",
       "      <td>29</td>\n",
       "    </tr>\n",
       "    <tr>\n",
       "      <td>1</td>\n",
       "      <td>CC(C)NC[C@@H](O)COc1ccc(CC(=O)N)cc1</td>\n",
       "      <td>1</td>\n",
       "      <td>0</td>\n",
       "      <td>1.000000</td>\n",
       "      <td>24.0</td>\n",
       "      <td>1.650000</td>\n",
       "      <td>2.4358</td>\n",
       "      <td>3.4710</td>\n",
       "      <td>35</td>\n",
       "    </tr>\n",
       "    <tr>\n",
       "      <td>2</td>\n",
       "      <td>C[C@@H](CCc1ccccc1)NC[C@@H](O)c1ccc(O)c(c1)C(=O)N</td>\n",
       "      <td>1</td>\n",
       "      <td>0</td>\n",
       "      <td>1.000000</td>\n",
       "      <td>10.0</td>\n",
       "      <td>2.055556</td>\n",
       "      <td>2.8086</td>\n",
       "      <td>3.7772</td>\n",
       "      <td>49</td>\n",
       "    </tr>\n",
       "    <tr>\n",
       "      <td>3</td>\n",
       "      <td>Nc1ccc(cc1)S(=O)(=O)Nc1nccs1</td>\n",
       "      <td>1</td>\n",
       "      <td>0</td>\n",
       "      <td>1.000000</td>\n",
       "      <td>1.0</td>\n",
       "      <td>1.432432</td>\n",
       "      <td>2.0317</td>\n",
       "      <td>2.3133</td>\n",
       "      <td>28</td>\n",
       "    </tr>\n",
       "    <tr>\n",
       "      <td>4</td>\n",
       "      <td>CCC[C@@H](C)C1(CC=C)C(=O)NC(=S)NC1=O</td>\n",
       "      <td>1</td>\n",
       "      <td>0</td>\n",
       "      <td>1.000000</td>\n",
       "      <td>8.0</td>\n",
       "      <td>2.305556</td>\n",
       "      <td>3.7121</td>\n",
       "      <td>2.5216</td>\n",
       "      <td>36</td>\n",
       "    </tr>\n",
       "    <tr>\n",
       "      <td>...</td>\n",
       "      <td>...</td>\n",
       "      <td>...</td>\n",
       "      <td>...</td>\n",
       "      <td>...</td>\n",
       "      <td>...</td>\n",
       "      <td>...</td>\n",
       "      <td>...</td>\n",
       "      <td>...</td>\n",
       "      <td>...</td>\n",
       "    </tr>\n",
       "    <tr>\n",
       "      <td>1725</td>\n",
       "      <td>C1[C@@]2(OC[C@]1(C)OC)C=C([C@@H]1CC[C@@]34[C@@...</td>\n",
       "      <td>0</td>\n",
       "      <td>11</td>\n",
       "      <td>0.000000</td>\n",
       "      <td>-1.0</td>\n",
       "      <td>4.944444</td>\n",
       "      <td>6.3422</td>\n",
       "      <td>3.8980</td>\n",
       "      <td>144</td>\n",
       "    </tr>\n",
       "    <tr>\n",
       "      <td>1726</td>\n",
       "      <td>c1(c(c(O)ccc1OC)O)C[C@@]1(C=2CCCC(C2CC[C@@H]1C...</td>\n",
       "      <td>0</td>\n",
       "      <td>11</td>\n",
       "      <td>0.000000</td>\n",
       "      <td>-1.0</td>\n",
       "      <td>3.472222</td>\n",
       "      <td>3.9093</td>\n",
       "      <td>4.0573</td>\n",
       "      <td>53</td>\n",
       "    </tr>\n",
       "    <tr>\n",
       "      <td>1727</td>\n",
       "      <td>C1CC(C)(C)[C@@H]2CCC([C@@H](\\C=C3\\C=C4C(=CC3=O...</td>\n",
       "      <td>0</td>\n",
       "      <td>11</td>\n",
       "      <td>0.000000</td>\n",
       "      <td>-1.0</td>\n",
       "      <td>3.704545</td>\n",
       "      <td>4.5864</td>\n",
       "      <td>4.0433</td>\n",
       "      <td>66</td>\n",
       "    </tr>\n",
       "    <tr>\n",
       "      <td>1728</td>\n",
       "      <td>CC(C)(C)NC[C@@H](CSc1nc(cs1)c1ccc(C(N)=O)s1)O</td>\n",
       "      <td>1</td>\n",
       "      <td>0</td>\n",
       "      <td>1.000000</td>\n",
       "      <td>84.0</td>\n",
       "      <td>2.574074</td>\n",
       "      <td>3.2400</td>\n",
       "      <td>3.6808</td>\n",
       "      <td>45</td>\n",
       "    </tr>\n",
       "    <tr>\n",
       "      <td>1729</td>\n",
       "      <td>CCOC(=O)C(=O)Nc1cc(cc(c1Cl)NC(=O)C(=O)OCC)C#N</td>\n",
       "      <td>1</td>\n",
       "      <td>6</td>\n",
       "      <td>0.047843</td>\n",
       "      <td>3.0</td>\n",
       "      <td>2.222222</td>\n",
       "      <td>2.5960</td>\n",
       "      <td>2.3712</td>\n",
       "      <td>45</td>\n",
       "    </tr>\n",
       "  </tbody>\n",
       "</table>\n",
       "<p>1730 rows × 9 columns</p>\n",
       "</div>"
      ],
      "text/plain": [
       "                                                 SMILES  tb_synthesizability  \\\n",
       "0                         CN(C)CCCN1c2ccccc2CCc2ccccc12                    1   \n",
       "1                   CC(C)NC[C@@H](O)COc1ccc(CC(=O)N)cc1                    1   \n",
       "2     C[C@@H](CCc1ccccc1)NC[C@@H](O)c1ccc(O)c(c1)C(=O)N                    1   \n",
       "3                          Nc1ccc(cc1)S(=O)(=O)Nc1nccs1                    1   \n",
       "4                  CCC[C@@H](C)C1(CC=C)C(=O)NC(=S)NC1=O                    1   \n",
       "...                                                 ...                  ...   \n",
       "1725  C1[C@@]2(OC[C@]1(C)OC)C=C([C@@H]1CC[C@@]34[C@@...                    0   \n",
       "1726  c1(c(c(O)ccc1OC)O)C[C@@]1(C=2CCCC(C2CC[C@@H]1C...                    0   \n",
       "1727  C1CC(C)(C)[C@@H]2CCC([C@@H](\\C=C3\\C=C4C(=CC3=O...                    0   \n",
       "1728      CC(C)(C)NC[C@@H](CSc1nc(cs1)c1ccc(C(N)=O)s1)O                    1   \n",
       "1729      CCOC(=O)C(=O)Nc1cc(cc(c1Cl)NC(=O)C(=O)OCC)C#N                    1   \n",
       "\n",
       "      tb_depth  tb_plausibility  tb_price  mean_complexity  sa_score  \\\n",
       "0            0         1.000000       7.0         1.938462    1.9331   \n",
       "1            0         1.000000      24.0         1.650000    2.4358   \n",
       "2            0         1.000000      10.0         2.055556    2.8086   \n",
       "3            0         1.000000       1.0         1.432432    2.0317   \n",
       "4            0         1.000000       8.0         2.305556    3.7121   \n",
       "...        ...              ...       ...              ...       ...   \n",
       "1725        11         0.000000      -1.0         4.944444    6.3422   \n",
       "1726        11         0.000000      -1.0         3.472222    3.9093   \n",
       "1727        11         0.000000      -1.0         3.704545    4.5864   \n",
       "1728         0         1.000000      84.0         2.574074    3.2400   \n",
       "1729         6         0.047843       3.0         2.222222    2.5960   \n",
       "\n",
       "      sc_score  len_smiles  \n",
       "0       3.0930          29  \n",
       "1       3.4710          35  \n",
       "2       3.7772          49  \n",
       "3       2.3133          28  \n",
       "4       2.5216          36  \n",
       "...        ...         ...  \n",
       "1725    3.8980         144  \n",
       "1726    4.0573          53  \n",
       "1727    4.0433          66  \n",
       "1728    3.6808          45  \n",
       "1729    2.3712          45  \n",
       "\n",
       "[1730 rows x 9 columns]"
      ]
     },
     "execution_count": 28,
     "metadata": {},
     "output_type": "execute_result"
    }
   ],
   "source": [
    "df_sheridan = pd.read_csv('./done_sheridan.csv')\n",
    "df_sheridan"
   ]
  },
  {
   "cell_type": "code",
   "execution_count": 177,
   "metadata": {},
   "outputs": [
    {
     "data": {
      "image/png": "[encoded data removed]",
      "text/plain": [
       "<Figure size 1728x1296 with 1 Axes>"
      ]
     },
     "metadata": {},
     "output_type": "display_data"
    }
   ],
   "source": [
    "fig = plt.figure(figsize=[24, 18])\n",
    "sns.set(font_scale=3)\n",
    "ax = sns.boxplot(x=\"tb_depth\", y=\"mean_complexity\", data=df_sheridan)\n",
    "# fig.savefig('./sheridan_price_depth.png')"
   ]
  },
  {
   "cell_type": "code",
   "execution_count": 45,
   "metadata": {},
   "outputs": [
    {
     "data": {
      "text/html": [
       "<div>\n",
       "<style scoped>\n",
       "    .dataframe tbody tr th:only-of-type {\n",
       "        vertical-align: middle;\n",
       "    }\n",
       "\n",
       "    .dataframe tbody tr th {\n",
       "        vertical-align: top;\n",
       "    }\n",
       "\n",
       "    .dataframe thead th {\n",
       "        text-align: right;\n",
       "    }\n",
       "</style>\n",
       "<table border=\"1\" class=\"dataframe\">\n",
       "  <thead>\n",
       "    <tr style=\"text-align: right;\">\n",
       "      <th></th>\n",
       "      <th>SMILES</th>\n",
       "      <th>dataset</th>\n",
       "      <th>len_smiles</th>\n",
       "      <th>sa_score</th>\n",
       "      <th>sc_score</th>\n",
       "      <th>tb_depth</th>\n",
       "      <th>tb_plausibility</th>\n",
       "      <th>tb_price</th>\n",
       "      <th>tb_synthesizability</th>\n",
       "    </tr>\n",
       "  </thead>\n",
       "  <tbody>\n",
       "    <tr>\n",
       "      <td>0</td>\n",
       "      <td>Cc1occc1CN(C)C(=O)c1cc(Br)c[nH]1</td>\n",
       "      <td>moses</td>\n",
       "      <td>32</td>\n",
       "      <td>2.595324</td>\n",
       "      <td>3.386202</td>\n",
       "      <td>3</td>\n",
       "      <td>0.967149</td>\n",
       "      <td>139.0</td>\n",
       "      <td>1</td>\n",
       "    </tr>\n",
       "    <tr>\n",
       "      <td>1</td>\n",
       "      <td>CC(OCC(F)(F)F)C(=O)Nc1ccc(Br)cc1O</td>\n",
       "      <td>moses</td>\n",
       "      <td>33</td>\n",
       "      <td>2.748776</td>\n",
       "      <td>2.504700</td>\n",
       "      <td>4</td>\n",
       "      <td>0.955559</td>\n",
       "      <td>17.0</td>\n",
       "      <td>1</td>\n",
       "    </tr>\n",
       "    <tr>\n",
       "      <td>2</td>\n",
       "      <td>CC1CCCC(N(C)C(=O)NC(C)C2CCCO2)C1</td>\n",
       "      <td>moses</td>\n",
       "      <td>32</td>\n",
       "      <td>3.622987</td>\n",
       "      <td>3.823689</td>\n",
       "      <td>2</td>\n",
       "      <td>0.976041</td>\n",
       "      <td>71.0</td>\n",
       "      <td>1</td>\n",
       "    </tr>\n",
       "    <tr>\n",
       "      <td>3</td>\n",
       "      <td>COCC(=O)Nc1ccc(CCC(=O)N2CCCC2)cc1</td>\n",
       "      <td>moses</td>\n",
       "      <td>33</td>\n",
       "      <td>1.745127</td>\n",
       "      <td>3.117510</td>\n",
       "      <td>2</td>\n",
       "      <td>0.999554</td>\n",
       "      <td>12.0</td>\n",
       "      <td>1</td>\n",
       "    </tr>\n",
       "    <tr>\n",
       "      <td>4</td>\n",
       "      <td>O=S(=O)(CCn1nnc2ccccc21)NCc1ccccc1</td>\n",
       "      <td>moses</td>\n",
       "      <td>34</td>\n",
       "      <td>2.065714</td>\n",
       "      <td>2.405881</td>\n",
       "      <td>4</td>\n",
       "      <td>0.882357</td>\n",
       "      <td>5.0</td>\n",
       "      <td>1</td>\n",
       "    </tr>\n",
       "    <tr>\n",
       "      <td>...</td>\n",
       "      <td>...</td>\n",
       "      <td>...</td>\n",
       "      <td>...</td>\n",
       "      <td>...</td>\n",
       "      <td>...</td>\n",
       "      <td>...</td>\n",
       "      <td>...</td>\n",
       "      <td>...</td>\n",
       "      <td>...</td>\n",
       "    </tr>\n",
       "    <tr>\n",
       "      <td>11995</td>\n",
       "      <td>CC1C2CC(=O)C(CC1=O)C1CC(CC21)C#N</td>\n",
       "      <td>gdb</td>\n",
       "      <td>32</td>\n",
       "      <td>NaN</td>\n",
       "      <td>NaN</td>\n",
       "      <td>11</td>\n",
       "      <td>0.000000</td>\n",
       "      <td>-1.0</td>\n",
       "      <td>0</td>\n",
       "    </tr>\n",
       "    <tr>\n",
       "      <td>11996</td>\n",
       "      <td>C1CC2C3CC(CN2C1)C1CNC(C3)C=C1</td>\n",
       "      <td>gdb</td>\n",
       "      <td>29</td>\n",
       "      <td>NaN</td>\n",
       "      <td>NaN</td>\n",
       "      <td>11</td>\n",
       "      <td>0.000000</td>\n",
       "      <td>-1.0</td>\n",
       "      <td>0</td>\n",
       "    </tr>\n",
       "    <tr>\n",
       "      <td>11997</td>\n",
       "      <td>CCC(CC)(N=C1NC(O)=CC(F)=C1F)C#N</td>\n",
       "      <td>gdb</td>\n",
       "      <td>31</td>\n",
       "      <td>NaN</td>\n",
       "      <td>NaN</td>\n",
       "      <td>11</td>\n",
       "      <td>0.000000</td>\n",
       "      <td>-1.0</td>\n",
       "      <td>0</td>\n",
       "    </tr>\n",
       "    <tr>\n",
       "      <td>11998</td>\n",
       "      <td>CC1=C2SC=C1CCCNC1C=C2NC1=O</td>\n",
       "      <td>gdb</td>\n",
       "      <td>26</td>\n",
       "      <td>NaN</td>\n",
       "      <td>NaN</td>\n",
       "      <td>11</td>\n",
       "      <td>0.000000</td>\n",
       "      <td>-1.0</td>\n",
       "      <td>0</td>\n",
       "    </tr>\n",
       "    <tr>\n",
       "      <td>11999</td>\n",
       "      <td>CCN1CC(=O)CCCC1C1OC2CCC1O2</td>\n",
       "      <td>gdb</td>\n",
       "      <td>26</td>\n",
       "      <td>NaN</td>\n",
       "      <td>NaN</td>\n",
       "      <td>11</td>\n",
       "      <td>0.000000</td>\n",
       "      <td>-1.0</td>\n",
       "      <td>0</td>\n",
       "    </tr>\n",
       "  </tbody>\n",
       "</table>\n",
       "<p>12000 rows × 9 columns</p>\n",
       "</div>"
      ],
      "text/plain": [
       "                                   SMILES dataset  len_smiles  sa_score  \\\n",
       "0        Cc1occc1CN(C)C(=O)c1cc(Br)c[nH]1   moses          32  2.595324   \n",
       "1       CC(OCC(F)(F)F)C(=O)Nc1ccc(Br)cc1O   moses          33  2.748776   \n",
       "2        CC1CCCC(N(C)C(=O)NC(C)C2CCCO2)C1   moses          32  3.622987   \n",
       "3       COCC(=O)Nc1ccc(CCC(=O)N2CCCC2)cc1   moses          33  1.745127   \n",
       "4      O=S(=O)(CCn1nnc2ccccc21)NCc1ccccc1   moses          34  2.065714   \n",
       "...                                   ...     ...         ...       ...   \n",
       "11995    CC1C2CC(=O)C(CC1=O)C1CC(CC21)C#N     gdb          32       NaN   \n",
       "11996       C1CC2C3CC(CN2C1)C1CNC(C3)C=C1     gdb          29       NaN   \n",
       "11997     CCC(CC)(N=C1NC(O)=CC(F)=C1F)C#N     gdb          31       NaN   \n",
       "11998          CC1=C2SC=C1CCCNC1C=C2NC1=O     gdb          26       NaN   \n",
       "11999          CCN1CC(=O)CCCC1C1OC2CCC1O2     gdb          26       NaN   \n",
       "\n",
       "       sc_score  tb_depth  tb_plausibility  tb_price  tb_synthesizability  \n",
       "0      3.386202         3         0.967149     139.0                    1  \n",
       "1      2.504700         4         0.955559      17.0                    1  \n",
       "2      3.823689         2         0.976041      71.0                    1  \n",
       "3      3.117510         2         0.999554      12.0                    1  \n",
       "4      2.405881         4         0.882357       5.0                    1  \n",
       "...         ...       ...              ...       ...                  ...  \n",
       "11995       NaN        11         0.000000      -1.0                    0  \n",
       "11996       NaN        11         0.000000      -1.0                    0  \n",
       "11997       NaN        11         0.000000      -1.0                    0  \n",
       "11998       NaN        11         0.000000      -1.0                    0  \n",
       "11999       NaN        11         0.000000      -1.0                    0  \n",
       "\n",
       "[12000 rows x 9 columns]"
      ]
     },
     "execution_count": 45,
     "metadata": {},
     "output_type": "execute_result"
    }
   ],
   "source": [
    "df_datasets"
   ]
  },
  {
   "cell_type": "code",
   "execution_count": 46,
   "metadata": {},
   "outputs": [],
   "source": [
    "df_moses = df_datasets[df_datasets['dataset'] == 'moses']"
   ]
  },
  {
   "cell_type": "code",
   "execution_count": 76,
   "metadata": {},
   "outputs": [],
   "source": [
    "df_temp = pd.concat([df_datasets[df_datasets['dataset'] == 'moses'], df_datasets[df_datasets['dataset'] == 'guacamol']])"
   ]
  },
  {
   "cell_type": "code",
   "execution_count": 77,
   "metadata": {},
   "outputs": [
    {
     "name": "stderr",
     "output_type": "stream",
     "text": [
      "/Users/gaowh/anaconda3/envs/rdkit/lib/python3.6/site-packages/ipykernel_launcher.py:1: FutureWarning: Sorting because non-concatenation axis is not aligned. A future version\n",
      "of pandas will change to not sort by default.\n",
      "\n",
      "To accept the future behavior, pass 'sort=False'.\n",
      "\n",
      "To retain the current behavior and silence the warning, pass 'sort=True'.\n",
      "\n",
      "  \"\"\"Entry point for launching an IPython kernel.\n"
     ]
    }
   ],
   "source": [
    "df_temp = pd.concat([df_temp, df_sheridan])"
   ]
  },
  {
   "cell_type": "code",
   "execution_count": 78,
   "metadata": {},
   "outputs": [],
   "source": [
    "df_temp.reset_index(inplace=True, drop=True)"
   ]
  },
  {
   "cell_type": "code",
   "execution_count": 80,
   "metadata": {},
   "outputs": [
    {
     "name": "stderr",
     "output_type": "stream",
     "text": [
      "/Users/gaowh/anaconda3/envs/rdkit/lib/python3.6/site-packages/ipykernel_launcher.py:3: SettingWithCopyWarning: \n",
      "A value is trying to be set on a copy of a slice from a DataFrame\n",
      "\n",
      "See the caveats in the documentation: http://pandas.pydata.org/pandas-docs/stable/user_guide/indexing.html#returning-a-view-versus-a-copy\n",
      "  This is separate from the ipykernel package so we can avoid doing imports until\n"
     ]
    }
   ],
   "source": [
    "for i in range(len(df_temp)):\n",
    "    if df_temp['tb_synthesizability'][i] == -1:\n",
    "        df_temp['tb_synthesizability'][i] = 0"
   ]
  },
  {
   "cell_type": "code",
   "execution_count": 81,
   "metadata": {},
   "outputs": [
    {
     "name": "stderr",
     "output_type": "stream",
     "text": [
      "/Users/gaowh/anaconda3/envs/rdkit/lib/python3.6/site-packages/ipykernel_launcher.py:7: UserWarning: Boolean Series key will be reindexed to match DataFrame index.\n",
      "  import sys\n"
     ]
    }
   ],
   "source": [
    "ps = []\n",
    "sas = []\n",
    "i = 0\n",
    "gap = 0.5\n",
    "while i < 10:\n",
    "    sas.append(i)\n",
    "    temp = df_temp[df_temp['sa_score'] > i][df_temp['sa_score'] <= i+gap]\n",
    "    if len(temp) == 0:\n",
    "        p = 0\n",
    "    else:\n",
    "        p = temp.tb_synthesizability.sum() / len(temp)\n",
    "    ps.append(p)\n",
    "    i += gap"
   ]
  },
  {
   "cell_type": "code",
   "execution_count": 82,
   "metadata": {},
   "outputs": [
    {
     "data": {
      "text/plain": [
       "[0,\n",
       " 0,\n",
       " 1.0,\n",
       " 0.9984496124031008,\n",
       " 0.9326732673267327,\n",
       " 0.7895699908508692,\n",
       " 0.6159860990443093,\n",
       " 0.3383177570093458,\n",
       " 0.1917808219178082,\n",
       " 0.15508021390374332,\n",
       " 0.0273972602739726,\n",
       " 0.06,\n",
       " 0.03571428571428571,\n",
       " 0.0,\n",
       " 0.0,\n",
       " 0.0,\n",
       " 0.0,\n",
       " 0,\n",
       " 0,\n",
       " 0]"
      ]
     },
     "execution_count": 82,
     "metadata": {},
     "output_type": "execute_result"
    }
   ],
   "source": [
    "ps"
   ]
  },
  {
   "cell_type": "code",
   "execution_count": 84,
   "metadata": {},
   "outputs": [],
   "source": [
    "ps[0] = 1\n",
    "ps[1] = 1"
   ]
  },
  {
   "cell_type": "code",
   "execution_count": 85,
   "metadata": {},
   "outputs": [
    {
     "data": {
      "image/png": "[encoded data removed]",
      "text/plain": [
       "<Figure size 432x288 with 1 Axes>"
      ]
     },
     "metadata": {},
     "output_type": "display_data"
    }
   ],
   "source": [
    "plt.plot(sas, ps, 'o-')\n",
    "plt.show()"
   ]
  },
  {
   "cell_type": "code",
   "execution_count": 89,
   "metadata": {},
   "outputs": [
    {
     "name": "stderr",
     "output_type": "stream",
     "text": [
      "/Users/gaowh/anaconda3/envs/rdkit/lib/python3.6/site-packages/ipykernel_launcher.py:7: UserWarning: Boolean Series key will be reindexed to match DataFrame index.\n",
      "  import sys\n"
     ]
    },
    {
     "data": {
      "text/plain": [
       "[0.8,\n",
       " 0.9024390243902439,\n",
       " 0.8436657681940701,\n",
       " 0.8467507274490785,\n",
       " 0.80189204229271,\n",
       " 0.7578332448220924,\n",
       " 0.6742268041237114,\n",
       " 0.5483576642335767]"
      ]
     },
     "execution_count": 89,
     "metadata": {},
     "output_type": "execute_result"
    }
   ],
   "source": [
    "ps = []\n",
    "sas = []\n",
    "i = 1\n",
    "gap = 0.5\n",
    "while i < 5:\n",
    "    sas.append(i)\n",
    "    temp = df_temp[df_temp['sc_score'] > i][df_temp['sc_score'] <= i+gap]\n",
    "    if len(temp) == 0:\n",
    "        p = 0\n",
    "    else:\n",
    "        p = temp.tb_synthesizability.sum() / len(temp)\n",
    "    ps.append(p)\n",
    "    i += gap\n",
    "    \n",
    "ps"
   ]
  },
  {
   "cell_type": "code",
   "execution_count": 90,
   "metadata": {},
   "outputs": [
    {
     "data": {
      "image/png": "[encoded data removed]",
      "text/plain": [
       "<Figure size 432x288 with 1 Axes>"
      ]
     },
     "metadata": {},
     "output_type": "display_data"
    }
   ],
   "source": [
    "plt.plot(sas, ps, 'o-')\n",
    "plt.show()"
   ]
  },
  {
   "cell_type": "code",
   "execution_count": 91,
   "metadata": {},
   "outputs": [
    {
     "name": "stderr",
     "output_type": "stream",
     "text": [
      "/Users/gaowh/anaconda3/envs/rdkit/lib/python3.6/site-packages/ipykernel_launcher.py:7: UserWarning: Boolean Series key will be reindexed to match DataFrame index.\n",
      "  import sys\n"
     ]
    },
    {
     "data": {
      "text/plain": [
       "[1.0,\n",
       " 0.8032786885245902,\n",
       " 0.8615548455804047,\n",
       " 0.8520392032880177,\n",
       " 0.7296604740550929,\n",
       " 0.6237513873473918,\n",
       " 0.5233812949640287,\n",
       " 0.4392156862745098,\n",
       " 0.34951456310679613,\n",
       " 0.24,\n",
       " 0.13793103448275862,\n",
       " 0.13636363636363635,\n",
       " 0.15384615384615385,\n",
       " 0.14285714285714285,\n",
       " 0.0,\n",
       " 0.0,\n",
       " 0.0,\n",
       " 0.0,\n",
       " 0.0,\n",
       " 0.0]"
      ]
     },
     "execution_count": 91,
     "metadata": {},
     "output_type": "execute_result"
    }
   ],
   "source": [
    "ps = []\n",
    "sas = []\n",
    "i = 1\n",
    "gap = 10\n",
    "while i < 200:\n",
    "    sas.append(i)\n",
    "    temp = df_temp[df_temp['len_smiles'] > i][df_temp['len_smiles'] <= i+gap]\n",
    "    if len(temp) == 0:\n",
    "        p = 0\n",
    "    else:\n",
    "        p = temp.tb_synthesizability.sum() / len(temp)\n",
    "    ps.append(p)\n",
    "    i += gap\n",
    "    \n",
    "ps"
   ]
  },
  {
   "cell_type": "code",
   "execution_count": 92,
   "metadata": {},
   "outputs": [
    {
     "data": {
      "image/png": "[encoded data removed]",
      "text/plain": [
       "<Figure size 432x288 with 1 Axes>"
      ]
     },
     "metadata": {},
     "output_type": "display_data"
    }
   ],
   "source": [
    "plt.plot(sas, ps, 'o-')\n",
    "plt.show()"
   ]
  },
  {
   "cell_type": "markdown",
   "metadata": {},
   "source": [
    "# Distribution Learning"
   ]
  },
  {
   "cell_type": "code",
   "execution_count": 83,
   "metadata": {},
   "outputs": [],
   "source": [
    "df = pd.read_csv('dl.csv')"
   ]
  },
  {
   "cell_type": "code",
   "execution_count": 84,
   "metadata": {},
   "outputs": [
    {
     "data": {
      "text/html": [
       "<div>\n",
       "<style scoped>\n",
       "    .dataframe tbody tr th:only-of-type {\n",
       "        vertical-align: middle;\n",
       "    }\n",
       "\n",
       "    .dataframe tbody tr th {\n",
       "        vertical-align: top;\n",
       "    }\n",
       "\n",
       "    .dataframe thead th {\n",
       "        text-align: right;\n",
       "    }\n",
       "</style>\n",
       "<table border=\"1\" class=\"dataframe\">\n",
       "  <thead>\n",
       "    <tr style=\"text-align: right;\">\n",
       "      <th></th>\n",
       "      <th>SMILES</th>\n",
       "      <th>tb_synthesizability</th>\n",
       "      <th>tb_depth</th>\n",
       "      <th>tb_plausibility</th>\n",
       "      <th>tb_price</th>\n",
       "      <th>len_smiles</th>\n",
       "      <th>dataset</th>\n",
       "      <th>method</th>\n",
       "    </tr>\n",
       "  </thead>\n",
       "  <tbody>\n",
       "    <tr>\n",
       "      <td>0</td>\n",
       "      <td>O=C(CS(=O)(=O)c1cccs1)NC1CCc2ccccc21</td>\n",
       "      <td>1</td>\n",
       "      <td>3</td>\n",
       "      <td>0.966991</td>\n",
       "      <td>8.0</td>\n",
       "      <td>36</td>\n",
       "      <td>moses</td>\n",
       "      <td>aae</td>\n",
       "    </tr>\n",
       "    <tr>\n",
       "      <td>1</td>\n",
       "      <td>Nc1c(C(=O)NCC(F)(F)F)nnn1-c1ccc(Cl)cc1</td>\n",
       "      <td>0</td>\n",
       "      <td>11</td>\n",
       "      <td>0.000000</td>\n",
       "      <td>-1.0</td>\n",
       "      <td>38</td>\n",
       "      <td>moses</td>\n",
       "      <td>aae</td>\n",
       "    </tr>\n",
       "    <tr>\n",
       "      <td>2</td>\n",
       "      <td>CCS(=O)(=O)N(C)C(C)c1ccccc1OC(F)F</td>\n",
       "      <td>1</td>\n",
       "      <td>3</td>\n",
       "      <td>0.230302</td>\n",
       "      <td>85.0</td>\n",
       "      <td>33</td>\n",
       "      <td>moses</td>\n",
       "      <td>aae</td>\n",
       "    </tr>\n",
       "    <tr>\n",
       "      <td>3</td>\n",
       "      <td>COC(=O)C(C)(C)NC(=O)c1sccc1OC</td>\n",
       "      <td>1</td>\n",
       "      <td>2</td>\n",
       "      <td>0.578832</td>\n",
       "      <td>13.0</td>\n",
       "      <td>29</td>\n",
       "      <td>moses</td>\n",
       "      <td>aae</td>\n",
       "    </tr>\n",
       "    <tr>\n",
       "      <td>4</td>\n",
       "      <td>COC(=O)c1[nH]c(C)cc1NC(=O)c1cnn(Cc2ccccc2)c1C</td>\n",
       "      <td>1</td>\n",
       "      <td>3</td>\n",
       "      <td>0.152077</td>\n",
       "      <td>78.0</td>\n",
       "      <td>45</td>\n",
       "      <td>moses</td>\n",
       "      <td>aae</td>\n",
       "    </tr>\n",
       "    <tr>\n",
       "      <td>...</td>\n",
       "      <td>...</td>\n",
       "      <td>...</td>\n",
       "      <td>...</td>\n",
       "      <td>...</td>\n",
       "      <td>...</td>\n",
       "      <td>...</td>\n",
       "      <td>...</td>\n",
       "      <td>...</td>\n",
       "    </tr>\n",
       "    <tr>\n",
       "      <td>1795</td>\n",
       "      <td>Cn1c(=O)[nH]c(=O)c2nnc(S)nc21</td>\n",
       "      <td>0</td>\n",
       "      <td>11</td>\n",
       "      <td>0.000000</td>\n",
       "      <td>-1.0</td>\n",
       "      <td>29</td>\n",
       "      <td>chembl</td>\n",
       "      <td>char_rnn</td>\n",
       "    </tr>\n",
       "    <tr>\n",
       "      <td>1796</td>\n",
       "      <td>COc1cc(C=C2Cc3c(O)ccc(O)c3C(=O)C2=O)ccc1O</td>\n",
       "      <td>1</td>\n",
       "      <td>7</td>\n",
       "      <td>0.351264</td>\n",
       "      <td>22.0</td>\n",
       "      <td>41</td>\n",
       "      <td>chembl</td>\n",
       "      <td>char_rnn</td>\n",
       "    </tr>\n",
       "    <tr>\n",
       "      <td>1797</td>\n",
       "      <td>COC(=O)c1c(C)[nH]c(C)c1C(=O)COc1cc(C)ccc1C</td>\n",
       "      <td>1</td>\n",
       "      <td>2</td>\n",
       "      <td>0.360997</td>\n",
       "      <td>37.0</td>\n",
       "      <td>42</td>\n",
       "      <td>chembl</td>\n",
       "      <td>char_rnn</td>\n",
       "    </tr>\n",
       "    <tr>\n",
       "      <td>1798</td>\n",
       "      <td>CC1(C)CC(=O)C2=C(C1)N(c1ccc(C(=O)O)cc1)C(=O)C2=O</td>\n",
       "      <td>0</td>\n",
       "      <td>11</td>\n",
       "      <td>0.000000</td>\n",
       "      <td>-1.0</td>\n",
       "      <td>48</td>\n",
       "      <td>chembl</td>\n",
       "      <td>char_rnn</td>\n",
       "    </tr>\n",
       "    <tr>\n",
       "      <td>1799</td>\n",
       "      <td>Cc1oc2nc(-c3ccccc3)nc(NCCN(C)C)c2c1C</td>\n",
       "      <td>1</td>\n",
       "      <td>4</td>\n",
       "      <td>0.855660</td>\n",
       "      <td>36.0</td>\n",
       "      <td>36</td>\n",
       "      <td>chembl</td>\n",
       "      <td>char_rnn</td>\n",
       "    </tr>\n",
       "  </tbody>\n",
       "</table>\n",
       "<p>1800 rows × 8 columns</p>\n",
       "</div>"
      ],
      "text/plain": [
       "                                                SMILES  tb_synthesizability  \\\n",
       "0                 O=C(CS(=O)(=O)c1cccs1)NC1CCc2ccccc21                    1   \n",
       "1               Nc1c(C(=O)NCC(F)(F)F)nnn1-c1ccc(Cl)cc1                    0   \n",
       "2                    CCS(=O)(=O)N(C)C(C)c1ccccc1OC(F)F                    1   \n",
       "3                        COC(=O)C(C)(C)NC(=O)c1sccc1OC                    1   \n",
       "4        COC(=O)c1[nH]c(C)cc1NC(=O)c1cnn(Cc2ccccc2)c1C                    1   \n",
       "...                                                ...                  ...   \n",
       "1795                     Cn1c(=O)[nH]c(=O)c2nnc(S)nc21                    0   \n",
       "1796         COc1cc(C=C2Cc3c(O)ccc(O)c3C(=O)C2=O)ccc1O                    1   \n",
       "1797        COC(=O)c1c(C)[nH]c(C)c1C(=O)COc1cc(C)ccc1C                    1   \n",
       "1798  CC1(C)CC(=O)C2=C(C1)N(c1ccc(C(=O)O)cc1)C(=O)C2=O                    0   \n",
       "1799              Cc1oc2nc(-c3ccccc3)nc(NCCN(C)C)c2c1C                    1   \n",
       "\n",
       "      tb_depth  tb_plausibility  tb_price  len_smiles dataset    method  \n",
       "0            3         0.966991       8.0          36   moses       aae  \n",
       "1           11         0.000000      -1.0          38   moses       aae  \n",
       "2            3         0.230302      85.0          33   moses       aae  \n",
       "3            2         0.578832      13.0          29   moses       aae  \n",
       "4            3         0.152077      78.0          45   moses       aae  \n",
       "...        ...              ...       ...         ...     ...       ...  \n",
       "1795        11         0.000000      -1.0          29  chembl  char_rnn  \n",
       "1796         7         0.351264      22.0          41  chembl  char_rnn  \n",
       "1797         2         0.360997      37.0          42  chembl  char_rnn  \n",
       "1798        11         0.000000      -1.0          48  chembl  char_rnn  \n",
       "1799         4         0.855660      36.0          36  chembl  char_rnn  \n",
       "\n",
       "[1800 rows x 8 columns]"
      ]
     },
     "execution_count": 84,
     "metadata": {},
     "output_type": "execute_result"
    }
   ],
   "source": [
    "df"
   ]
  },
  {
   "cell_type": "code",
   "execution_count": 85,
   "metadata": {},
   "outputs": [],
   "source": [
    "df_moses = df[df['dataset'] == 'moses']\n",
    "df_chembl = df[df['dataset'] == 'chembl']"
   ]
  },
  {
   "cell_type": "code",
   "execution_count": 86,
   "metadata": {},
   "outputs": [
    {
     "data": {
      "text/html": [
       "<div>\n",
       "<style scoped>\n",
       "    .dataframe tbody tr th:only-of-type {\n",
       "        vertical-align: middle;\n",
       "    }\n",
       "\n",
       "    .dataframe tbody tr th {\n",
       "        vertical-align: top;\n",
       "    }\n",
       "\n",
       "    .dataframe thead th {\n",
       "        text-align: right;\n",
       "    }\n",
       "</style>\n",
       "<table border=\"1\" class=\"dataframe\">\n",
       "  <thead>\n",
       "    <tr style=\"text-align: right;\">\n",
       "      <th></th>\n",
       "      <th>SMILES</th>\n",
       "      <th>tb_synthesizability</th>\n",
       "      <th>tb_depth</th>\n",
       "      <th>tb_plausibility</th>\n",
       "      <th>tb_price</th>\n",
       "      <th>len_smiles</th>\n",
       "      <th>dataset</th>\n",
       "      <th>method</th>\n",
       "    </tr>\n",
       "  </thead>\n",
       "  <tbody>\n",
       "    <tr>\n",
       "      <td>0</td>\n",
       "      <td>O=C(CS(=O)(=O)c1cccs1)NC1CCc2ccccc21</td>\n",
       "      <td>1</td>\n",
       "      <td>3</td>\n",
       "      <td>0.966991</td>\n",
       "      <td>8.0</td>\n",
       "      <td>36</td>\n",
       "      <td>moses</td>\n",
       "      <td>aae</td>\n",
       "    </tr>\n",
       "    <tr>\n",
       "      <td>1</td>\n",
       "      <td>Nc1c(C(=O)NCC(F)(F)F)nnn1-c1ccc(Cl)cc1</td>\n",
       "      <td>0</td>\n",
       "      <td>11</td>\n",
       "      <td>0.000000</td>\n",
       "      <td>-1.0</td>\n",
       "      <td>38</td>\n",
       "      <td>moses</td>\n",
       "      <td>aae</td>\n",
       "    </tr>\n",
       "    <tr>\n",
       "      <td>2</td>\n",
       "      <td>CCS(=O)(=O)N(C)C(C)c1ccccc1OC(F)F</td>\n",
       "      <td>1</td>\n",
       "      <td>3</td>\n",
       "      <td>0.230302</td>\n",
       "      <td>85.0</td>\n",
       "      <td>33</td>\n",
       "      <td>moses</td>\n",
       "      <td>aae</td>\n",
       "    </tr>\n",
       "    <tr>\n",
       "      <td>3</td>\n",
       "      <td>COC(=O)C(C)(C)NC(=O)c1sccc1OC</td>\n",
       "      <td>1</td>\n",
       "      <td>2</td>\n",
       "      <td>0.578832</td>\n",
       "      <td>13.0</td>\n",
       "      <td>29</td>\n",
       "      <td>moses</td>\n",
       "      <td>aae</td>\n",
       "    </tr>\n",
       "    <tr>\n",
       "      <td>4</td>\n",
       "      <td>COC(=O)c1[nH]c(C)cc1NC(=O)c1cnn(Cc2ccccc2)c1C</td>\n",
       "      <td>1</td>\n",
       "      <td>3</td>\n",
       "      <td>0.152077</td>\n",
       "      <td>78.0</td>\n",
       "      <td>45</td>\n",
       "      <td>moses</td>\n",
       "      <td>aae</td>\n",
       "    </tr>\n",
       "    <tr>\n",
       "      <td>...</td>\n",
       "      <td>...</td>\n",
       "      <td>...</td>\n",
       "      <td>...</td>\n",
       "      <td>...</td>\n",
       "      <td>...</td>\n",
       "      <td>...</td>\n",
       "      <td>...</td>\n",
       "      <td>...</td>\n",
       "    </tr>\n",
       "    <tr>\n",
       "      <td>895</td>\n",
       "      <td>Cn1c(=O)[nH]c(=O)c2cc(-c3noc(-c4cccnc4)n3)cnc21</td>\n",
       "      <td>0</td>\n",
       "      <td>11</td>\n",
       "      <td>0.000000</td>\n",
       "      <td>-1.0</td>\n",
       "      <td>47</td>\n",
       "      <td>moses</td>\n",
       "      <td>char_rnn</td>\n",
       "    </tr>\n",
       "    <tr>\n",
       "      <td>896</td>\n",
       "      <td>CSc1ccc(C(=O)N(C)Cc2nccn2C(F)F)cc1</td>\n",
       "      <td>1</td>\n",
       "      <td>5</td>\n",
       "      <td>0.447269</td>\n",
       "      <td>27.0</td>\n",
       "      <td>34</td>\n",
       "      <td>moses</td>\n",
       "      <td>char_rnn</td>\n",
       "    </tr>\n",
       "    <tr>\n",
       "      <td>897</td>\n",
       "      <td>Cc1cc(S(=O)(=O)N(C)C)cc(NC(=O)c2cc[nH]n2)c1C</td>\n",
       "      <td>1</td>\n",
       "      <td>4</td>\n",
       "      <td>0.813772</td>\n",
       "      <td>8.0</td>\n",
       "      <td>44</td>\n",
       "      <td>moses</td>\n",
       "      <td>char_rnn</td>\n",
       "    </tr>\n",
       "    <tr>\n",
       "      <td>898</td>\n",
       "      <td>CC(=O)NC(C)c1ccc(S(=O)(=O)N(C)C)cc1</td>\n",
       "      <td>1</td>\n",
       "      <td>2</td>\n",
       "      <td>0.245668</td>\n",
       "      <td>82.0</td>\n",
       "      <td>35</td>\n",
       "      <td>moses</td>\n",
       "      <td>char_rnn</td>\n",
       "    </tr>\n",
       "    <tr>\n",
       "      <td>899</td>\n",
       "      <td>Cc1occc1-c1nnc(SCC(=O)Nc2ccccc2)n1C</td>\n",
       "      <td>1</td>\n",
       "      <td>3</td>\n",
       "      <td>0.999185</td>\n",
       "      <td>141.0</td>\n",
       "      <td>35</td>\n",
       "      <td>moses</td>\n",
       "      <td>char_rnn</td>\n",
       "    </tr>\n",
       "  </tbody>\n",
       "</table>\n",
       "<p>900 rows × 8 columns</p>\n",
       "</div>"
      ],
      "text/plain": [
       "                                              SMILES  tb_synthesizability  \\\n",
       "0               O=C(CS(=O)(=O)c1cccs1)NC1CCc2ccccc21                    1   \n",
       "1             Nc1c(C(=O)NCC(F)(F)F)nnn1-c1ccc(Cl)cc1                    0   \n",
       "2                  CCS(=O)(=O)N(C)C(C)c1ccccc1OC(F)F                    1   \n",
       "3                      COC(=O)C(C)(C)NC(=O)c1sccc1OC                    1   \n",
       "4      COC(=O)c1[nH]c(C)cc1NC(=O)c1cnn(Cc2ccccc2)c1C                    1   \n",
       "..                                               ...                  ...   \n",
       "895  Cn1c(=O)[nH]c(=O)c2cc(-c3noc(-c4cccnc4)n3)cnc21                    0   \n",
       "896               CSc1ccc(C(=O)N(C)Cc2nccn2C(F)F)cc1                    1   \n",
       "897     Cc1cc(S(=O)(=O)N(C)C)cc(NC(=O)c2cc[nH]n2)c1C                    1   \n",
       "898              CC(=O)NC(C)c1ccc(S(=O)(=O)N(C)C)cc1                    1   \n",
       "899              Cc1occc1-c1nnc(SCC(=O)Nc2ccccc2)n1C                    1   \n",
       "\n",
       "     tb_depth  tb_plausibility  tb_price  len_smiles dataset    method  \n",
       "0           3         0.966991       8.0          36   moses       aae  \n",
       "1          11         0.000000      -1.0          38   moses       aae  \n",
       "2           3         0.230302      85.0          33   moses       aae  \n",
       "3           2         0.578832      13.0          29   moses       aae  \n",
       "4           3         0.152077      78.0          45   moses       aae  \n",
       "..        ...              ...       ...         ...     ...       ...  \n",
       "895        11         0.000000      -1.0          47   moses  char_rnn  \n",
       "896         5         0.447269      27.0          34   moses  char_rnn  \n",
       "897         4         0.813772       8.0          44   moses  char_rnn  \n",
       "898         2         0.245668      82.0          35   moses  char_rnn  \n",
       "899         3         0.999185     141.0          35   moses  char_rnn  \n",
       "\n",
       "[900 rows x 8 columns]"
      ]
     },
     "execution_count": 86,
     "metadata": {},
     "output_type": "execute_result"
    }
   ],
   "source": [
    "df_moses"
   ]
  },
  {
   "cell_type": "code",
   "execution_count": 87,
   "metadata": {},
   "outputs": [
    {
     "name": "stderr",
     "output_type": "stream",
     "text": [
      "/Users/gaowh/anaconda3/envs/rdkit/lib/python3.6/site-packages/ipykernel_launcher.py:7: UserWarning: Boolean Series key will be reindexed to match DataFrame index.\n",
      "  import sys\n"
     ]
    }
   ],
   "source": [
    "df_moses_count = count_plot(df_moses, 'method', 'tb_depth')\n",
    "df_moses_count = normalize(df_moses_count, axis=1)"
   ]
  },
  {
   "cell_type": "code",
   "execution_count": 88,
   "metadata": {},
   "outputs": [
    {
     "data": {
      "text/html": [
       "<div>\n",
       "<style scoped>\n",
       "    .dataframe tbody tr th:only-of-type {\n",
       "        vertical-align: middle;\n",
       "    }\n",
       "\n",
       "    .dataframe tbody tr th {\n",
       "        vertical-align: top;\n",
       "    }\n",
       "\n",
       "    .dataframe thead th {\n",
       "        text-align: right;\n",
       "    }\n",
       "</style>\n",
       "<table border=\"1\" class=\"dataframe\">\n",
       "  <thead>\n",
       "    <tr style=\"text-align: right;\">\n",
       "      <th></th>\n",
       "      <th>0</th>\n",
       "      <th>1</th>\n",
       "      <th>2</th>\n",
       "      <th>3</th>\n",
       "      <th>4</th>\n",
       "      <th>5</th>\n",
       "      <th>6</th>\n",
       "      <th>7</th>\n",
       "      <th>8</th>\n",
       "      <th>9</th>\n",
       "      <th>10</th>\n",
       "      <th>11</th>\n",
       "    </tr>\n",
       "  </thead>\n",
       "  <tbody>\n",
       "    <tr>\n",
       "      <td>char_rnn</td>\n",
       "      <td>0.003333</td>\n",
       "      <td>0.230000</td>\n",
       "      <td>0.203333</td>\n",
       "      <td>0.180000</td>\n",
       "      <td>0.113333</td>\n",
       "      <td>0.070000</td>\n",
       "      <td>0.043333</td>\n",
       "      <td>0.023333</td>\n",
       "      <td>0.013333</td>\n",
       "      <td>0.006667</td>\n",
       "      <td>0.006667</td>\n",
       "      <td>0.106667</td>\n",
       "    </tr>\n",
       "    <tr>\n",
       "      <td>aae</td>\n",
       "      <td>0.000000</td>\n",
       "      <td>0.223333</td>\n",
       "      <td>0.226667</td>\n",
       "      <td>0.130000</td>\n",
       "      <td>0.083333</td>\n",
       "      <td>0.066667</td>\n",
       "      <td>0.026667</td>\n",
       "      <td>0.016667</td>\n",
       "      <td>0.013333</td>\n",
       "      <td>0.000000</td>\n",
       "      <td>0.003333</td>\n",
       "      <td>0.210000</td>\n",
       "    </tr>\n",
       "    <tr>\n",
       "      <td>vae</td>\n",
       "      <td>0.000000</td>\n",
       "      <td>0.236667</td>\n",
       "      <td>0.233333</td>\n",
       "      <td>0.183333</td>\n",
       "      <td>0.110000</td>\n",
       "      <td>0.050000</td>\n",
       "      <td>0.023333</td>\n",
       "      <td>0.013333</td>\n",
       "      <td>0.003333</td>\n",
       "      <td>0.013333</td>\n",
       "      <td>0.003333</td>\n",
       "      <td>0.130000</td>\n",
       "    </tr>\n",
       "  </tbody>\n",
       "</table>\n",
       "</div>"
      ],
      "text/plain": [
       "                0         1         2         3         4         5   \\\n",
       "char_rnn  0.003333  0.230000  0.203333  0.180000  0.113333  0.070000   \n",
       "aae       0.000000  0.223333  0.226667  0.130000  0.083333  0.066667   \n",
       "vae       0.000000  0.236667  0.233333  0.183333  0.110000  0.050000   \n",
       "\n",
       "                6         7         8         9         10        11  \n",
       "char_rnn  0.043333  0.023333  0.013333  0.006667  0.006667  0.106667  \n",
       "aae       0.026667  0.016667  0.013333  0.000000  0.003333  0.210000  \n",
       "vae       0.023333  0.013333  0.003333  0.013333  0.003333  0.130000  "
      ]
     },
     "execution_count": 88,
     "metadata": {},
     "output_type": "execute_result"
    }
   ],
   "source": [
    "df_moses_count"
   ]
  },
  {
   "cell_type": "code",
   "execution_count": 89,
   "metadata": {},
   "outputs": [
    {
     "data": {
      "text/plain": [
       " 0     0.000333\n",
       " 1     0.208333\n",
       " 2     0.224333\n",
       " 3     0.184000\n",
       " 4     0.106667\n",
       " 5     0.071000\n",
       " 6     0.042000\n",
       " 7     0.029667\n",
       " 8     0.014000\n",
       " 9     0.012333\n",
       " 10    0.005000\n",
       " 11    0.102333\n",
       "-1     0.000000\n",
       "Name: moses, dtype: float64"
      ]
     },
     "execution_count": 89,
     "metadata": {},
     "output_type": "execute_result"
    }
   ],
   "source": [
    "df_data_count.iloc[0, :]"
   ]
  },
  {
   "cell_type": "code",
   "execution_count": 90,
   "metadata": {},
   "outputs": [],
   "source": [
    "df_moses_count = pd.concat([df_moses_count, pd.DataFrame({'moses': df_data_count.iloc[0, :]}).T])"
   ]
  },
  {
   "cell_type": "code",
   "execution_count": 91,
   "metadata": {},
   "outputs": [],
   "source": [
    "df_moses_count = df_moses_count.iloc[:, 1:]"
   ]
  },
  {
   "cell_type": "code",
   "execution_count": 92,
   "metadata": {},
   "outputs": [
    {
     "data": {
      "text/html": [
       "<div>\n",
       "<style scoped>\n",
       "    .dataframe tbody tr th:only-of-type {\n",
       "        vertical-align: middle;\n",
       "    }\n",
       "\n",
       "    .dataframe tbody tr th {\n",
       "        vertical-align: top;\n",
       "    }\n",
       "\n",
       "    .dataframe thead th {\n",
       "        text-align: right;\n",
       "    }\n",
       "</style>\n",
       "<table border=\"1\" class=\"dataframe\">\n",
       "  <thead>\n",
       "    <tr style=\"text-align: right;\">\n",
       "      <th></th>\n",
       "      <th>0</th>\n",
       "      <th>1</th>\n",
       "      <th>2</th>\n",
       "      <th>3</th>\n",
       "      <th>4</th>\n",
       "      <th>5</th>\n",
       "      <th>6</th>\n",
       "      <th>7</th>\n",
       "      <th>8</th>\n",
       "      <th>9</th>\n",
       "      <th>10</th>\n",
       "      <th>11</th>\n",
       "    </tr>\n",
       "  </thead>\n",
       "  <tbody>\n",
       "    <tr>\n",
       "      <td>char_rnn</td>\n",
       "      <td>0.003333</td>\n",
       "      <td>0.230000</td>\n",
       "      <td>0.203333</td>\n",
       "      <td>0.180000</td>\n",
       "      <td>0.113333</td>\n",
       "      <td>0.070000</td>\n",
       "      <td>0.043333</td>\n",
       "      <td>0.023333</td>\n",
       "      <td>0.013333</td>\n",
       "      <td>0.006667</td>\n",
       "      <td>0.006667</td>\n",
       "      <td>0.106667</td>\n",
       "    </tr>\n",
       "    <tr>\n",
       "      <td>aae</td>\n",
       "      <td>0.000000</td>\n",
       "      <td>0.223333</td>\n",
       "      <td>0.226667</td>\n",
       "      <td>0.130000</td>\n",
       "      <td>0.083333</td>\n",
       "      <td>0.066667</td>\n",
       "      <td>0.026667</td>\n",
       "      <td>0.016667</td>\n",
       "      <td>0.013333</td>\n",
       "      <td>0.000000</td>\n",
       "      <td>0.003333</td>\n",
       "      <td>0.210000</td>\n",
       "    </tr>\n",
       "    <tr>\n",
       "      <td>vae</td>\n",
       "      <td>0.000000</td>\n",
       "      <td>0.236667</td>\n",
       "      <td>0.233333</td>\n",
       "      <td>0.183333</td>\n",
       "      <td>0.110000</td>\n",
       "      <td>0.050000</td>\n",
       "      <td>0.023333</td>\n",
       "      <td>0.013333</td>\n",
       "      <td>0.003333</td>\n",
       "      <td>0.013333</td>\n",
       "      <td>0.003333</td>\n",
       "      <td>0.130000</td>\n",
       "    </tr>\n",
       "    <tr>\n",
       "      <td>moses</td>\n",
       "      <td>0.000333</td>\n",
       "      <td>0.208333</td>\n",
       "      <td>0.224333</td>\n",
       "      <td>0.184000</td>\n",
       "      <td>0.106667</td>\n",
       "      <td>0.071000</td>\n",
       "      <td>0.042000</td>\n",
       "      <td>0.029667</td>\n",
       "      <td>0.014000</td>\n",
       "      <td>0.012333</td>\n",
       "      <td>0.005000</td>\n",
       "      <td>0.102333</td>\n",
       "    </tr>\n",
       "  </tbody>\n",
       "</table>\n",
       "</div>"
      ],
      "text/plain": [
       "                0         1         2         3         4         5   \\\n",
       "char_rnn  0.003333  0.230000  0.203333  0.180000  0.113333  0.070000   \n",
       "aae       0.000000  0.223333  0.226667  0.130000  0.083333  0.066667   \n",
       "vae       0.000000  0.236667  0.233333  0.183333  0.110000  0.050000   \n",
       "moses     0.000333  0.208333  0.224333  0.184000  0.106667  0.071000   \n",
       "\n",
       "                6         7         8         9         10        11  \n",
       "char_rnn  0.043333  0.023333  0.013333  0.006667  0.006667  0.106667  \n",
       "aae       0.026667  0.016667  0.013333  0.000000  0.003333  0.210000  \n",
       "vae       0.023333  0.013333  0.003333  0.013333  0.003333  0.130000  \n",
       "moses     0.042000  0.029667  0.014000  0.012333  0.005000  0.102333  "
      ]
     },
     "execution_count": 92,
     "metadata": {},
     "output_type": "execute_result"
    }
   ],
   "source": [
    "df_moses_count"
   ]
  },
  {
   "cell_type": "code",
   "execution_count": 93,
   "metadata": {},
   "outputs": [
    {
     "data": {
      "image/png": "[encoded data removed]",
      "text/plain": [
       "<Figure size 1152x864 with 1 Axes>"
      ]
     },
     "metadata": {
      "needs_background": "light"
     },
     "output_type": "display_data"
    }
   ],
   "source": [
    "fig = plt.figure(figsize=[16, 12])\n",
    "plt.bar(list(df_moses_count.index), np.array(df_moses_count[0]), label='0')\n",
    "accum = np.array(df_moses_count[0])\n",
    "for i in range(1, len(df_moses_count.columns)-1):\n",
    "    col_name = df_moses_count.columns[i]\n",
    "    plt.bar(list(df_moses_count.index), np.array(df_moses_count[col_name]), bottom=accum, label=str(col_name))\n",
    "    accum = accum + np.array(df_moses_count[col_name])\n",
    "    \n",
    "plt.legend()\n",
    "plt.show()\n",
    "fig.savefig('./dl_moses.png')"
   ]
  },
  {
   "cell_type": "code",
   "execution_count": 94,
   "metadata": {},
   "outputs": [
    {
     "name": "stderr",
     "output_type": "stream",
     "text": [
      "/Users/gaowh/anaconda3/envs/rdkit/lib/python3.6/site-packages/ipykernel_launcher.py:7: UserWarning: Boolean Series key will be reindexed to match DataFrame index.\n",
      "  import sys\n"
     ]
    }
   ],
   "source": [
    "df_chembl_count = count_plot(df_chembl, 'method', 'tb_depth')\n",
    "df_chembl_count = normalize(df_chembl_count, axis=1)"
   ]
  },
  {
   "cell_type": "code",
   "execution_count": 95,
   "metadata": {},
   "outputs": [
    {
     "data": {
      "text/html": [
       "<div>\n",
       "<style scoped>\n",
       "    .dataframe tbody tr th:only-of-type {\n",
       "        vertical-align: middle;\n",
       "    }\n",
       "\n",
       "    .dataframe tbody tr th {\n",
       "        vertical-align: top;\n",
       "    }\n",
       "\n",
       "    .dataframe thead th {\n",
       "        text-align: right;\n",
       "    }\n",
       "</style>\n",
       "<table border=\"1\" class=\"dataframe\">\n",
       "  <thead>\n",
       "    <tr style=\"text-align: right;\">\n",
       "      <th></th>\n",
       "      <th>0</th>\n",
       "      <th>1</th>\n",
       "      <th>2</th>\n",
       "      <th>3</th>\n",
       "      <th>4</th>\n",
       "      <th>5</th>\n",
       "      <th>6</th>\n",
       "      <th>7</th>\n",
       "      <th>8</th>\n",
       "      <th>9</th>\n",
       "      <th>10</th>\n",
       "      <th>11</th>\n",
       "    </tr>\n",
       "  </thead>\n",
       "  <tbody>\n",
       "    <tr>\n",
       "      <td>char_rnn</td>\n",
       "      <td>0.006667</td>\n",
       "      <td>0.096667</td>\n",
       "      <td>0.113333</td>\n",
       "      <td>0.100000</td>\n",
       "      <td>0.093333</td>\n",
       "      <td>0.056667</td>\n",
       "      <td>0.053333</td>\n",
       "      <td>0.046667</td>\n",
       "      <td>0.016667</td>\n",
       "      <td>0.013333</td>\n",
       "      <td>0.006667</td>\n",
       "      <td>0.396667</td>\n",
       "    </tr>\n",
       "    <tr>\n",
       "      <td>aae</td>\n",
       "      <td>0.003333</td>\n",
       "      <td>0.143333</td>\n",
       "      <td>0.090000</td>\n",
       "      <td>0.106667</td>\n",
       "      <td>0.073333</td>\n",
       "      <td>0.063333</td>\n",
       "      <td>0.070000</td>\n",
       "      <td>0.036667</td>\n",
       "      <td>0.020000</td>\n",
       "      <td>0.016667</td>\n",
       "      <td>0.020000</td>\n",
       "      <td>0.356667</td>\n",
       "    </tr>\n",
       "    <tr>\n",
       "      <td>vae</td>\n",
       "      <td>0.003333</td>\n",
       "      <td>0.106667</td>\n",
       "      <td>0.130000</td>\n",
       "      <td>0.083333</td>\n",
       "      <td>0.080000</td>\n",
       "      <td>0.063333</td>\n",
       "      <td>0.056667</td>\n",
       "      <td>0.016667</td>\n",
       "      <td>0.030000</td>\n",
       "      <td>0.026667</td>\n",
       "      <td>0.003333</td>\n",
       "      <td>0.400000</td>\n",
       "    </tr>\n",
       "  </tbody>\n",
       "</table>\n",
       "</div>"
      ],
      "text/plain": [
       "                0         1         2         3         4         5   \\\n",
       "char_rnn  0.006667  0.096667  0.113333  0.100000  0.093333  0.056667   \n",
       "aae       0.003333  0.143333  0.090000  0.106667  0.073333  0.063333   \n",
       "vae       0.003333  0.106667  0.130000  0.083333  0.080000  0.063333   \n",
       "\n",
       "                6         7         8         9         10        11  \n",
       "char_rnn  0.053333  0.046667  0.016667  0.013333  0.006667  0.396667  \n",
       "aae       0.070000  0.036667  0.020000  0.016667  0.020000  0.356667  \n",
       "vae       0.056667  0.016667  0.030000  0.026667  0.003333  0.400000  "
      ]
     },
     "execution_count": 95,
     "metadata": {},
     "output_type": "execute_result"
    }
   ],
   "source": [
    "df_chembl_count"
   ]
  },
  {
   "cell_type": "code",
   "execution_count": 96,
   "metadata": {},
   "outputs": [],
   "source": [
    "df_chembl_count = pd.concat([df_chembl_count, pd.DataFrame({'chembl': df_data_count.iloc[3, :]}).T])"
   ]
  },
  {
   "cell_type": "code",
   "execution_count": 97,
   "metadata": {},
   "outputs": [],
   "source": [
    "df_chembl_count = df_chembl_count.iloc[:, 1:]"
   ]
  },
  {
   "cell_type": "code",
   "execution_count": 98,
   "metadata": {},
   "outputs": [
    {
     "data": {
      "image/png": "[encoded data removed]",
      "text/plain": [
       "<Figure size 1152x864 with 1 Axes>"
      ]
     },
     "metadata": {
      "needs_background": "light"
     },
     "output_type": "display_data"
    }
   ],
   "source": [
    "fig = plt.figure(figsize=[16, 12])\n",
    "plt.bar(list(df_chembl_count.index), np.array(df_chembl_count[0]), label='0')\n",
    "accum = np.array(df_chembl_count[0])\n",
    "for i in range(1, len(df_chembl_count.columns)-1):\n",
    "    col_name = df_chembl_count.columns[i]\n",
    "    plt.bar(list(df_chembl_count.index), np.array(df_chembl_count[col_name]), bottom=accum, label=str(col_name))\n",
    "    accum = accum + np.array(df_chembl_count[col_name])\n",
    "    \n",
    "plt.legend()\n",
    "plt.show()\n",
    "fig.savefig('./dl_chembl.png')"
   ]
  },
  {
   "cell_type": "code",
   "execution_count": 99,
   "metadata": {},
   "outputs": [],
   "source": [
    "df_chembl_count.index = ['chembl', 'chembl_char_rnn', 'chembl_aae', 'chembl_vae']"
   ]
  },
  {
   "cell_type": "code",
   "execution_count": 100,
   "metadata": {},
   "outputs": [],
   "source": [
    "df_moses_count.index = ['moses', 'moses_char_rnn', 'moses_aae', 'moses_vae']"
   ]
  },
  {
   "cell_type": "code",
   "execution_count": 101,
   "metadata": {},
   "outputs": [
    {
     "data": {
      "text/html": [
       "<div>\n",
       "<style scoped>\n",
       "    .dataframe tbody tr th:only-of-type {\n",
       "        vertical-align: middle;\n",
       "    }\n",
       "\n",
       "    .dataframe tbody tr th {\n",
       "        vertical-align: top;\n",
       "    }\n",
       "\n",
       "    .dataframe thead th {\n",
       "        text-align: right;\n",
       "    }\n",
       "</style>\n",
       "<table border=\"1\" class=\"dataframe\">\n",
       "  <thead>\n",
       "    <tr style=\"text-align: right;\">\n",
       "      <th></th>\n",
       "      <th>0</th>\n",
       "      <th>1</th>\n",
       "      <th>2</th>\n",
       "      <th>3</th>\n",
       "      <th>4</th>\n",
       "      <th>5</th>\n",
       "      <th>6</th>\n",
       "      <th>7</th>\n",
       "      <th>8</th>\n",
       "      <th>9</th>\n",
       "      <th>10</th>\n",
       "      <th>11</th>\n",
       "    </tr>\n",
       "  </thead>\n",
       "  <tbody>\n",
       "    <tr>\n",
       "      <td>moses</td>\n",
       "      <td>0.003333</td>\n",
       "      <td>0.230000</td>\n",
       "      <td>0.203333</td>\n",
       "      <td>0.180000</td>\n",
       "      <td>0.113333</td>\n",
       "      <td>0.070000</td>\n",
       "      <td>0.043333</td>\n",
       "      <td>0.023333</td>\n",
       "      <td>0.013333</td>\n",
       "      <td>0.006667</td>\n",
       "      <td>0.006667</td>\n",
       "      <td>0.106667</td>\n",
       "    </tr>\n",
       "    <tr>\n",
       "      <td>moses_char_rnn</td>\n",
       "      <td>0.000000</td>\n",
       "      <td>0.223333</td>\n",
       "      <td>0.226667</td>\n",
       "      <td>0.130000</td>\n",
       "      <td>0.083333</td>\n",
       "      <td>0.066667</td>\n",
       "      <td>0.026667</td>\n",
       "      <td>0.016667</td>\n",
       "      <td>0.013333</td>\n",
       "      <td>0.000000</td>\n",
       "      <td>0.003333</td>\n",
       "      <td>0.210000</td>\n",
       "    </tr>\n",
       "    <tr>\n",
       "      <td>moses_aae</td>\n",
       "      <td>0.000000</td>\n",
       "      <td>0.236667</td>\n",
       "      <td>0.233333</td>\n",
       "      <td>0.183333</td>\n",
       "      <td>0.110000</td>\n",
       "      <td>0.050000</td>\n",
       "      <td>0.023333</td>\n",
       "      <td>0.013333</td>\n",
       "      <td>0.003333</td>\n",
       "      <td>0.013333</td>\n",
       "      <td>0.003333</td>\n",
       "      <td>0.130000</td>\n",
       "    </tr>\n",
       "    <tr>\n",
       "      <td>moses_vae</td>\n",
       "      <td>0.000333</td>\n",
       "      <td>0.208333</td>\n",
       "      <td>0.224333</td>\n",
       "      <td>0.184000</td>\n",
       "      <td>0.106667</td>\n",
       "      <td>0.071000</td>\n",
       "      <td>0.042000</td>\n",
       "      <td>0.029667</td>\n",
       "      <td>0.014000</td>\n",
       "      <td>0.012333</td>\n",
       "      <td>0.005000</td>\n",
       "      <td>0.102333</td>\n",
       "    </tr>\n",
       "    <tr>\n",
       "      <td>chembl</td>\n",
       "      <td>0.006667</td>\n",
       "      <td>0.096667</td>\n",
       "      <td>0.113333</td>\n",
       "      <td>0.100000</td>\n",
       "      <td>0.093333</td>\n",
       "      <td>0.056667</td>\n",
       "      <td>0.053333</td>\n",
       "      <td>0.046667</td>\n",
       "      <td>0.016667</td>\n",
       "      <td>0.013333</td>\n",
       "      <td>0.006667</td>\n",
       "      <td>0.396667</td>\n",
       "    </tr>\n",
       "    <tr>\n",
       "      <td>chembl_char_rnn</td>\n",
       "      <td>0.003333</td>\n",
       "      <td>0.143333</td>\n",
       "      <td>0.090000</td>\n",
       "      <td>0.106667</td>\n",
       "      <td>0.073333</td>\n",
       "      <td>0.063333</td>\n",
       "      <td>0.070000</td>\n",
       "      <td>0.036667</td>\n",
       "      <td>0.020000</td>\n",
       "      <td>0.016667</td>\n",
       "      <td>0.020000</td>\n",
       "      <td>0.356667</td>\n",
       "    </tr>\n",
       "    <tr>\n",
       "      <td>chembl_aae</td>\n",
       "      <td>0.003333</td>\n",
       "      <td>0.106667</td>\n",
       "      <td>0.130000</td>\n",
       "      <td>0.083333</td>\n",
       "      <td>0.080000</td>\n",
       "      <td>0.063333</td>\n",
       "      <td>0.056667</td>\n",
       "      <td>0.016667</td>\n",
       "      <td>0.030000</td>\n",
       "      <td>0.026667</td>\n",
       "      <td>0.003333</td>\n",
       "      <td>0.400000</td>\n",
       "    </tr>\n",
       "    <tr>\n",
       "      <td>chembl_vae</td>\n",
       "      <td>0.009333</td>\n",
       "      <td>0.126000</td>\n",
       "      <td>0.130333</td>\n",
       "      <td>0.107000</td>\n",
       "      <td>0.095667</td>\n",
       "      <td>0.067333</td>\n",
       "      <td>0.050667</td>\n",
       "      <td>0.041333</td>\n",
       "      <td>0.026667</td>\n",
       "      <td>0.017667</td>\n",
       "      <td>0.010667</td>\n",
       "      <td>0.317333</td>\n",
       "    </tr>\n",
       "  </tbody>\n",
       "</table>\n",
       "</div>"
      ],
      "text/plain": [
       "                       0         1         2         3         4         5   \\\n",
       "moses            0.003333  0.230000  0.203333  0.180000  0.113333  0.070000   \n",
       "moses_char_rnn   0.000000  0.223333  0.226667  0.130000  0.083333  0.066667   \n",
       "moses_aae        0.000000  0.236667  0.233333  0.183333  0.110000  0.050000   \n",
       "moses_vae        0.000333  0.208333  0.224333  0.184000  0.106667  0.071000   \n",
       "chembl           0.006667  0.096667  0.113333  0.100000  0.093333  0.056667   \n",
       "chembl_char_rnn  0.003333  0.143333  0.090000  0.106667  0.073333  0.063333   \n",
       "chembl_aae       0.003333  0.106667  0.130000  0.083333  0.080000  0.063333   \n",
       "chembl_vae       0.009333  0.126000  0.130333  0.107000  0.095667  0.067333   \n",
       "\n",
       "                       6         7         8         9         10        11  \n",
       "moses            0.043333  0.023333  0.013333  0.006667  0.006667  0.106667  \n",
       "moses_char_rnn   0.026667  0.016667  0.013333  0.000000  0.003333  0.210000  \n",
       "moses_aae        0.023333  0.013333  0.003333  0.013333  0.003333  0.130000  \n",
       "moses_vae        0.042000  0.029667  0.014000  0.012333  0.005000  0.102333  \n",
       "chembl           0.053333  0.046667  0.016667  0.013333  0.006667  0.396667  \n",
       "chembl_char_rnn  0.070000  0.036667  0.020000  0.016667  0.020000  0.356667  \n",
       "chembl_aae       0.056667  0.016667  0.030000  0.026667  0.003333  0.400000  \n",
       "chembl_vae       0.050667  0.041333  0.026667  0.017667  0.010667  0.317333  "
      ]
     },
     "execution_count": 101,
     "metadata": {},
     "output_type": "execute_result"
    }
   ],
   "source": [
    "df_dl = pd.concat([df_moses_count, df_chembl_count])\n",
    "df_dl"
   ]
  },
  {
   "cell_type": "code",
   "execution_count": 102,
   "metadata": {},
   "outputs": [
    {
     "data": {
      "image/png": "[encoded data removed]",
      "text/plain": [
       "<Figure size 1152x864 with 1 Axes>"
      ]
     },
     "metadata": {
      "needs_background": "light"
     },
     "output_type": "display_data"
    }
   ],
   "source": [
    "fig = plt.figure(figsize=[16, 12])\n",
    "plt.bar(list(df_dl.index), np.array(df_dl[0]), label='0')\n",
    "accum = np.array(df_dl[0])\n",
    "for i in range(1, len(df_dl.columns)-1):\n",
    "    col_name = df_dl.columns[i]\n",
    "    plt.bar(list(df_dl.index), np.array(df_dl[col_name]), bottom=accum, label=str(col_name))\n",
    "    accum = accum + np.array(df_dl[col_name])\n",
    "    \n",
    "plt.legend()\n",
    "plt.show()\n",
    "fig.savefig('./dl.png')"
   ]
  },
  {
   "cell_type": "code",
   "execution_count": 110,
   "metadata": {},
   "outputs": [
    {
     "name": "stderr",
     "output_type": "stream",
     "text": [
      "/Users/gaowh/anaconda3/envs/rdkit/lib/python3.6/site-packages/scipy/stats/stats.py:1713: FutureWarning: Using a non-tuple sequence for multidimensional indexing is deprecated; use `arr[tuple(seq)]` instead of `arr[seq]`. In the future this will be interpreted as an array index, `arr[np.array(seq)]`, which will result either in an error or a different result.\n",
      "  return np.add.reduce(sorted[indexer] * weights, axis=axis) / sumval\n"
     ]
    },
    {
     "data": {
      "image/png": "[encoded data removed]",
      "text/plain": [
       "<Figure size 432x288 with 1 Axes>"
      ]
     },
     "metadata": {
      "needs_background": "light"
     },
     "output_type": "display_data"
    }
   ],
   "source": [
    "ax = sns.barplot(data=df_dl,ci=0)"
   ]
  },
  {
   "cell_type": "markdown",
   "metadata": {},
   "source": [
    "# Goal directed generation"
   ]
  },
  {
   "cell_type": "code",
   "execution_count": 165,
   "metadata": {},
   "outputs": [],
   "source": [
    "df_chembl_wo = pd.read_csv('./chembl_wo.csv')\n",
    "df_chembl_wa = pd.read_csv('./chembl_wa.csv')\n",
    "df_chembl_wc = pd.read_csv('./chembl_wc.csv')\n",
    "\n",
    "df_moses_wo = pd.read_csv('./moses_wo.csv')\n",
    "df_moses_wa = pd.read_csv('./moses_wa.csv')\n",
    "df_moses_wc = pd.read_csv('./moses_wc.csv')"
   ]
  },
  {
   "cell_type": "code",
   "execution_count": 166,
   "metadata": {},
   "outputs": [],
   "source": [
    "df_chembl_wo_count = count_plot(df_chembl_wo[df_chembl_wo['tb_synthesizability'] == 1], 'property', 'method') / 100\n",
    "df_chembl_wa_count = count_plot(df_chembl_wa[df_chembl_wa['tb_synthesizability'] == 1], 'property', 'method') / 100\n",
    "df_chembl_wc_count = count_plot(df_chembl_wc[df_chembl_wc['tb_synthesizability'] == 1], 'property', 'method') / 100\n",
    "\n",
    "df_moses_wo_count = count_plot(df_moses_wo[df_moses_wo['tb_synthesizability'] == 1], 'property', 'method') / 100\n",
    "df_moses_wa_count = count_plot(df_moses_wa[df_moses_wa['tb_synthesizability'] == 1], 'property', 'method') / 100\n",
    "df_moses_wc_count = count_plot(df_moses_wc[df_moses_wc['tb_synthesizability'] == 1], 'property', 'method') / 100"
   ]
  },
  {
   "cell_type": "code",
   "execution_count": 167,
   "metadata": {},
   "outputs": [
    {
     "data": {
      "text/plain": [
       "(                  smiles_lstm  graph_ga  best_from_chembl  smiles_ga\n",
       " CNS MPO                  0.60      0.88              0.84       0.86\n",
       " QED                      0.86      0.86              0.90       0.89\n",
       " Pioglitazone MPO         0.56      0.04              0.64       0.00\n",
       " C7H8N2O2                 0.96      0.34              1.00       0.77,\n",
       "                  smiles_lstm  graph_ga  best_from_chembl  smiles_ga\n",
       " SA_isomer               0.95      1.00              1.00       1.00\n",
       " SA_QED                  0.98      0.98              0.98       0.98\n",
       " SA_CNS                  0.51      1.00              0.99       1.00\n",
       " SA_pioglitazone         0.80      0.94              1.00       0.93,\n",
       "                  smiles_lstm  graph_ga  best_from_chembl  smiles_ga\n",
       " SC_isomer               0.96      0.82              1.00       0.97\n",
       " SC_QED                  0.98      0.98              0.99       0.99\n",
       " SC_CNS                  0.59      0.99              0.98       0.97\n",
       " SC_pioglitazone         0.66      0.02              0.93       0.53)"
      ]
     },
     "execution_count": 167,
     "metadata": {},
     "output_type": "execute_result"
    }
   ],
   "source": [
    "df_moses_wo_count, df_moses_wa_count, df_moses_wc_count "
   ]
  },
  {
   "cell_type": "code",
   "execution_count": 168,
   "metadata": {},
   "outputs": [
    {
     "data": {
      "text/plain": [
       "(                  smiles_lstm  best_from_chembl  graph_ga  smiles_ga\n",
       " CNS MPO                  0.54              0.68      0.69       0.71\n",
       " QED                      0.94              0.85      0.86       0.79\n",
       " Pioglitazone MPO         0.31              0.34      0.00       0.00\n",
       " C7H8N2O2                 0.89              0.88      0.77       0.71,\n",
       "                  smiles_lstm  graph_ga  best_from_chembl  smiles_ga\n",
       " SA_isomer               0.95      0.99              0.99       0.98\n",
       " SA_QED                  0.97      1.00              1.00       0.98\n",
       " SA_CNS                  0.59      0.96              0.96       0.97\n",
       " SA_pioglitazone         0.71      0.92              0.90       0.90,\n",
       "                  smiles_lstm  graph_ga  best_from_chembl  smiles_ga\n",
       " SC_isomer               0.98      0.87              0.93       0.92\n",
       " SC_QED                  0.97      0.93              0.97       0.96\n",
       " SC_CNS                  0.60      0.83              0.84       0.85\n",
       " SC_pioglitazone         0.58      0.32              0.78       0.54)"
      ]
     },
     "execution_count": 168,
     "metadata": {},
     "output_type": "execute_result"
    }
   ],
   "source": [
    "df_chembl_wo_count, df_chembl_wa_count, df_chembl_wc_count "
   ]
  },
  {
   "cell_type": "code",
   "execution_count": 172,
   "metadata": {},
   "outputs": [],
   "source": [
    "df_chembl_wo_count_10 = count_plot(df_chembl_wo[df_chembl_wo['tb_synthesizability'] == 1][df_chembl_wo['rank'] <= 10], 'property', 'method') / 10\n",
    "df_chembl_wa_count_10 = count_plot(df_chembl_wa[df_chembl_wa['tb_synthesizability'] == 1][df_chembl_wa['rank'] <= 10], 'property', 'method') / 10\n",
    "df_chembl_wc_count_10 = count_plot(df_chembl_wc[df_chembl_wc['tb_synthesizability'] == 1][df_chembl_wc['rank'] <= 10], 'property', 'method') / 10\n",
    "\n",
    "df_moses_wo_count_10 = count_plot(df_moses_wo[df_moses_wo['tb_synthesizability'] == 1][df_moses_wo['rank'] <= 10], 'property', 'method') / 10\n",
    "df_moses_wa_count_10 = count_plot(df_moses_wa[df_moses_wa['tb_synthesizability'] == 1][df_moses_wa['rank'] <= 10], 'property', 'method') / 10\n",
    "df_moses_wc_count_10 = count_plot(df_moses_wc[df_moses_wc['tb_synthesizability'] == 1][df_moses_wc['rank'] <= 10], 'property', 'method') / 10"
   ]
  },
  {
   "cell_type": "code",
   "execution_count": 173,
   "metadata": {},
   "outputs": [
    {
     "data": {
      "text/plain": [
       "(                  smiles_lstm  graph_ga  best_from_chembl  smiles_ga\n",
       " CNS MPO                   0.5       0.7               0.7        0.8\n",
       " QED                       0.8       0.8               0.9        0.9\n",
       " Pioglitazone MPO          0.5       0.1               0.9        0.0\n",
       " C7H8N2O2                  1.0       0.8               1.0        1.0,\n",
       "                  smiles_lstm  graph_ga  best_from_chembl  smiles_ga\n",
       " SA_isomer                0.9       1.0               1.0        1.0\n",
       " SA_QED                   1.0       1.0               1.0        1.0\n",
       " SA_CNS                   0.4       1.0               1.0        1.0\n",
       " SA_pioglitazone          0.9       1.0               1.0        0.9,\n",
       "                  smiles_lstm  graph_ga  best_from_chembl  smiles_ga\n",
       " SC_isomer                1.0       0.9               1.0        1.0\n",
       " SC_QED                   1.0       1.0               1.0        1.0\n",
       " SC_CNS                   0.5       1.0               1.0        1.0\n",
       " SC_pioglitazone          0.5       0.0               1.0        0.3)"
      ]
     },
     "execution_count": 173,
     "metadata": {},
     "output_type": "execute_result"
    }
   ],
   "source": [
    "df_moses_wo_count_10, df_moses_wa_count_10, df_moses_wc_count_10"
   ]
  },
  {
   "cell_type": "code",
   "execution_count": 174,
   "metadata": {},
   "outputs": [
    {
     "data": {
      "text/plain": [
       "(                  smiles_lstm  best_from_chembl  graph_ga  smiles_ga\n",
       " CNS MPO                   0.1               0.5       0.5        0.5\n",
       " QED                       0.8               0.9       0.9        0.9\n",
       " Pioglitazone MPO          0.8               0.6       0.0        0.0\n",
       " C7H8N2O2                  0.7               0.8       0.6        0.8,\n",
       "                  smiles_lstm  graph_ga  best_from_chembl  smiles_ga\n",
       " SA_isomer                1.0       1.0               1.0        1.0\n",
       " SA_QED                   1.0       1.0               1.0        1.0\n",
       " SA_CNS                   0.3       1.0               1.0        1.0\n",
       " SA_pioglitazone          0.7       0.8               0.8        0.8,\n",
       "                  smiles_lstm  graph_ga  best_from_chembl  smiles_ga\n",
       " SC_isomer                1.0       1.0               1.0        1.0\n",
       " SC_QED                   1.0       0.9               0.9        0.9\n",
       " SC_CNS                   0.3       0.9               0.9        0.9\n",
       " SC_pioglitazone          0.8       0.3               0.7        0.5)"
      ]
     },
     "execution_count": 174,
     "metadata": {},
     "output_type": "execute_result"
    }
   ],
   "source": [
    "df_chembl_wo_count_10, df_chembl_wa_count_10, df_chembl_wc_count_10"
   ]
  },
  {
   "cell_type": "markdown",
   "metadata": {},
   "source": [
    "# Hard Goals"
   ]
  },
  {
   "cell_type": "code",
   "execution_count": 20,
   "metadata": {},
   "outputs": [
    {
     "name": "stderr",
     "output_type": "stream",
     "text": [
      "/Users/gaowh/anaconda3/envs/rdkit/lib/python3.6/site-packages/ipykernel_launcher.py:7: UserWarning: Boolean Series key will be reindexed to match DataFrame index.\n",
      "  import sys\n",
      "/Users/gaowh/anaconda3/envs/rdkit/lib/python3.6/site-packages/ipykernel_launcher.py:8: UserWarning: Boolean Series key will be reindexed to match DataFrame index.\n",
      "  \n"
     ]
    }
   ],
   "source": [
    "df_hard_cwa = pd.read_csv('./goal_hard_cwa.csv')\n",
    "\n",
    "df_hard_cwa_count = \\\n",
    "    count_plot(df_hard_cwa[df_hard_cwa['tb_synthesizability'] == 1], 'property', 'method') \\\n",
    "    / count_plot(df_hard_cwa, 'property', 'method') \n",
    "\n",
    "df_hard_cwa_count_10 = \\\n",
    "    count_plot(df_hard_cwa[df_hard_cwa['tb_synthesizability'] == 1][df_hard_cwa['rank'] <= 10], 'property', 'method') \\\n",
    "    / count_plot(df_hard_cwa[df_hard_cwa['rank'] <= 10], 'property', 'method')"
   ]
  },
  {
   "cell_type": "code",
   "execution_count": 21,
   "metadata": {},
   "outputs": [
    {
     "name": "stderr",
     "output_type": "stream",
     "text": [
      "/Users/gaowh/anaconda3/envs/rdkit/lib/python3.6/site-packages/ipykernel_launcher.py:7: UserWarning: Boolean Series key will be reindexed to match DataFrame index.\n",
      "  import sys\n",
      "/Users/gaowh/anaconda3/envs/rdkit/lib/python3.6/site-packages/ipykernel_launcher.py:8: UserWarning: Boolean Series key will be reindexed to match DataFrame index.\n",
      "  \n"
     ]
    }
   ],
   "source": [
    "df_hard_cwo = pd.read_csv('./goal_hard_cwo.csv')\n",
    "\n",
    "df_hard_cwo_count = \\\n",
    "    count_plot(df_hard_cwo[df_hard_cwo['tb_synthesizability'] == 1], 'property', 'method') \\\n",
    "    / count_plot(df_hard_cwo, 'property', 'method') \n",
    "\n",
    "df_hard_cwo_count_10 = \\\n",
    "    count_plot(df_hard_cwo[df_hard_cwo['tb_synthesizability'] == 1][df_hard_cwo['rank'] <= 10], 'property', 'method') \\\n",
    "    / count_plot(df_hard_cwo[df_hard_cwo['rank'] <= 10], 'property', 'method')"
   ]
  },
  {
   "cell_type": "code",
   "execution_count": 22,
   "metadata": {},
   "outputs": [
    {
     "name": "stderr",
     "output_type": "stream",
     "text": [
      "/Users/gaowh/anaconda3/envs/rdkit/lib/python3.6/site-packages/ipykernel_launcher.py:7: UserWarning: Boolean Series key will be reindexed to match DataFrame index.\n",
      "  import sys\n",
      "/Users/gaowh/anaconda3/envs/rdkit/lib/python3.6/site-packages/ipykernel_launcher.py:8: UserWarning: Boolean Series key will be reindexed to match DataFrame index.\n",
      "  \n"
     ]
    }
   ],
   "source": [
    "df_hard_mwo = pd.read_csv('./goal_hard_mwo.csv')\n",
    "\n",
    "df_hard_mwo_count = \\\n",
    "    count_plot(df_hard_mwo[df_hard_mwo['tb_synthesizability'] == 1], 'property', 'method') \\\n",
    "    / count_plot(df_hard_mwo, 'property', 'method') \n",
    "\n",
    "df_hard_mwo_count_10 = \\\n",
    "    count_plot(df_hard_mwo[df_hard_mwo['tb_synthesizability'] == 1][df_hard_mwo['rank'] <= 10], 'property', 'method') \\\n",
    "    / count_plot(df_hard_mwo[df_hard_mwo['rank'] <= 10], 'property', 'method')"
   ]
  },
  {
   "cell_type": "code",
   "execution_count": 23,
   "metadata": {},
   "outputs": [
    {
     "name": "stderr",
     "output_type": "stream",
     "text": [
      "/Users/gaowh/anaconda3/envs/rdkit/lib/python3.6/site-packages/ipykernel_launcher.py:7: UserWarning: Boolean Series key will be reindexed to match DataFrame index.\n",
      "  import sys\n",
      "/Users/gaowh/anaconda3/envs/rdkit/lib/python3.6/site-packages/ipykernel_launcher.py:8: UserWarning: Boolean Series key will be reindexed to match DataFrame index.\n",
      "  \n"
     ]
    }
   ],
   "source": [
    "df_hard_mwa = pd.read_csv('./goal_hard_mwa.csv')\n",
    "\n",
    "df_hard_mwa_count = \\\n",
    "    count_plot(df_hard_mwa[df_hard_mwa['tb_synthesizability'] == 1], 'property', 'method') \\\n",
    "    / count_plot(df_hard_mwa, 'property', 'method') \n",
    "\n",
    "df_hard_mwa_count_10 = \\\n",
    "    count_plot(df_hard_mwa[df_hard_mwa['tb_synthesizability'] == 1][df_hard_mwa['rank'] <= 10], 'property', 'method') \\\n",
    "    / count_plot(df_hard_mwa[df_hard_mwa['rank'] <= 10], 'property', 'method')"
   ]
  },
  {
   "cell_type": "code",
   "execution_count": 24,
   "metadata": {},
   "outputs": [
    {
     "name": "stderr",
     "output_type": "stream",
     "text": [
      "/Users/gaowh/anaconda3/envs/rdkit/lib/python3.6/site-packages/ipykernel_launcher.py:7: UserWarning: Boolean Series key will be reindexed to match DataFrame index.\n",
      "  import sys\n",
      "/Users/gaowh/anaconda3/envs/rdkit/lib/python3.6/site-packages/ipykernel_launcher.py:8: UserWarning: Boolean Series key will be reindexed to match DataFrame index.\n",
      "  \n"
     ]
    }
   ],
   "source": [
    "df_hard_mwc = pd.read_csv('./goal_hard_mwc.csv')\n",
    "\n",
    "df_hard_mwc_count = \\\n",
    "    count_plot(df_hard_mwc[df_hard_mwc['tb_synthesizability'] == 1], 'property', 'method') \\\n",
    "    / count_plot(df_hard_mwc, 'property', 'method') \n",
    "\n",
    "df_hard_mwc_count_10 = \\\n",
    "    count_plot(df_hard_mwc[df_hard_mwc['tb_synthesizability'] == 1][df_hard_mwc['rank'] <= 10], 'property', 'method') \\\n",
    "    / count_plot(df_hard_mwc[df_hard_mwc['rank'] <= 10], 'property', 'method')"
   ]
  },
  {
   "cell_type": "code",
   "execution_count": null,
   "metadata": {},
   "outputs": [],
   "source": []
  },
  {
   "cell_type": "code",
   "execution_count": null,
   "metadata": {},
   "outputs": [],
   "source": []
  },
  {
   "cell_type": "code",
   "execution_count": null,
   "metadata": {},
   "outputs": [],
   "source": []
  },
  {
   "cell_type": "code",
   "execution_count": null,
   "metadata": {},
   "outputs": [],
   "source": []
  },
  {
   "cell_type": "code",
   "execution_count": null,
   "metadata": {},
   "outputs": [],
   "source": []
  },
  {
   "cell_type": "code",
   "execution_count": null,
   "metadata": {},
   "outputs": [],
   "source": []
  },
  {
   "cell_type": "code",
   "execution_count": null,
   "metadata": {},
   "outputs": [],
   "source": []
  },
  {
   "cell_type": "code",
   "execution_count": 18,
   "metadata": {},
   "outputs": [],
   "source": [
    "def heatmap(data, row_labels, col_labels, ax=None,\n",
    "            cbar_kw={}, cbarlabel=\"\", **kwargs):\n",
    "    \"\"\"\n",
    "    Create a heatmap from a numpy array and two lists of labels.\n",
    "\n",
    "    Parameters\n",
    "    ----------\n",
    "    data\n",
    "        A 2D numpy array of shape (N, M).\n",
    "    row_labels\n",
    "        A list or array of length N with the labels for the rows.\n",
    "    col_labels\n",
    "        A list or array of length M with the labels for the columns.\n",
    "    ax\n",
    "        A `matplotlib.axes.Axes` instance to which the heatmap is plotted.  If\n",
    "        not provided, use current axes or create a new one.  Optional.\n",
    "    cbar_kw\n",
    "        A dictionary with arguments to `matplotlib.Figure.colorbar`.  Optional.\n",
    "    cbarlabel\n",
    "        The label for the colorbar.  Optional.\n",
    "    **kwargs\n",
    "        All other arguments are forwarded to `imshow`.\n",
    "    \"\"\"\n",
    "\n",
    "    if not ax:\n",
    "        ax = plt.gca()\n",
    "\n",
    "    # Plot the heatmap\n",
    "    im = ax.imshow(data, **kwargs)\n",
    "\n",
    "    # Create colorbar\n",
    "    cbar = ax.figure.colorbar(im, ax=ax, **cbar_kw)\n",
    "    cbar.ax.set_ylabel(cbarlabel, rotation=-90, va=\"bottom\")\n",
    "\n",
    "    # We want to show all ticks...\n",
    "    ax.set_xticks(np.arange(data.shape[1]))\n",
    "    ax.set_yticks(np.arange(data.shape[0]))\n",
    "    # ... and label them with the respective list entries.\n",
    "    ax.set_xticklabels(col_labels)\n",
    "    ax.set_yticklabels(row_labels)\n",
    "\n",
    "    # Let the horizontal axes labeling appear on top.\n",
    "    ax.tick_params(top=True, bottom=False,\n",
    "                   labeltop=True, labelbottom=False)\n",
    "\n",
    "    # Rotate the tick labels and set their alignment.\n",
    "    plt.setp(ax.get_xticklabels(), rotation=-30, ha=\"right\",\n",
    "             rotation_mode=\"anchor\")\n",
    "\n",
    "    # Turn spines off and create white grid.\n",
    "    for edge, spine in ax.spines.items():\n",
    "        spine.set_visible(False)\n",
    "\n",
    "    ax.set_xticks(np.arange(data.shape[1]+1)-.5, minor=True)\n",
    "    ax.set_yticks(np.arange(data.shape[0]+1)-.5, minor=True)\n",
    "    ax.grid(which=\"minor\", color=\"w\", linestyle='-', linewidth=3)\n",
    "    ax.tick_params(which=\"minor\", bottom=False, left=False)\n",
    "\n",
    "    return im, cbar\n",
    "\n",
    "\n",
    "def annotate_heatmap(im, data=None, valfmt=\"{x:.2f}\",\n",
    "                     textcolors=[\"black\", \"black\"],\n",
    "                     threshold=None, **textkw):\n",
    "    \"\"\"\n",
    "    A function to annotate a heatmap.\n",
    "\n",
    "    Parameters\n",
    "    ----------\n",
    "    im\n",
    "        The AxesImage to be labeled.\n",
    "    data\n",
    "        Data used to annotate.  If None, the image's data is used.  Optional.\n",
    "    valfmt\n",
    "        The format of the annotations inside the heatmap.  This should either\n",
    "        use the string format method, e.g. \"$ {x:.2f}\", or be a\n",
    "        `matplotlib.ticker.Formatter`.  Optional.\n",
    "    textcolors\n",
    "        A list or array of two color specifications.  The first is used for\n",
    "        values below a threshold, the second for those above.  Optional.\n",
    "    threshold\n",
    "        Value in data units according to which the colors from textcolors are\n",
    "        applied.  If None (the default) uses the middle of the colormap as\n",
    "        separation.  Optional.\n",
    "    **kwargs\n",
    "        All other arguments are forwarded to each call to `text` used to create\n",
    "        the text labels.\n",
    "    \"\"\"\n",
    "\n",
    "    if not isinstance(data, (list, np.ndarray)):\n",
    "        data = im.get_array()\n",
    "\n",
    "    # Normalize the threshold to the images color range.\n",
    "    if threshold is not None:\n",
    "        threshold = im.norm(threshold)\n",
    "    else:\n",
    "        threshold = im.norm(data.max())/2.\n",
    "\n",
    "    # Set default alignment to center, but allow it to be\n",
    "    # overwritten by textkw.\n",
    "    kw = dict(horizontalalignment=\"center\",\n",
    "              verticalalignment=\"center\")\n",
    "    kw.update(textkw)\n",
    "\n",
    "    # Get the formatter in case a string is supplied\n",
    "    if isinstance(valfmt, str):\n",
    "        valfmt = matplotlib.ticker.StrMethodFormatter(valfmt)\n",
    "\n",
    "    # Loop over the data and create a `Text` for each \"pixel\".\n",
    "    # Change the text's color depending on the data.\n",
    "    texts = []\n",
    "    for i in range(data.shape[0]):\n",
    "        for j in range(data.shape[1]):\n",
    "            kw.update(color=textcolors[int(im.norm(data[i, j]) > threshold)])\n",
    "            text = im.axes.text(j, i, valfmt(data[i, j], None), **kw)\n",
    "            texts.append(text)\n",
    "\n",
    "    return texts"
   ]
  },
  {
   "cell_type": "code",
   "execution_count": 19,
   "metadata": {},
   "outputs": [
    {
     "data": {
      "image/png": "[encoded data removed]",
      "text/plain": [
       "<Figure size 864x648 with 2 Axes>"
      ]
     },
     "metadata": {
      "needs_background": "light"
     },
     "output_type": "display_data"
    }
   ],
   "source": [
    "fig, ax = plt.subplots(1, 1, figsize=(12, 9))\n",
    "\n",
    "im, cbar = heatmap(df_hard_cwa_count.values, df_hard_cwa_count.index, df_hard_cwa_count.columns, ax=ax, cmap=\"Wistia\", \n",
    "                   cbarlabel=\"Fraction of synthesizable molecules\", vmin=0, vmax=1)\n",
    "texts = annotate_heatmap(im, valfmt=\"{x:.2f}\")\n",
    "\n",
    "fig.tight_layout()\n",
    "plt.show()"
   ]
  },
  {
   "cell_type": "code",
   "execution_count": 25,
   "metadata": {},
   "outputs": [
    {
     "data": {
      "image/png": "[encoded data removed]",
      "text/plain": [
       "<Figure size 864x648 with 2 Axes>"
      ]
     },
     "metadata": {
      "needs_background": "light"
     },
     "output_type": "display_data"
    }
   ],
   "source": [
    "fig, ax = plt.subplots(1, 1, figsize=(12, 9))\n",
    "\n",
    "im, cbar = heatmap(df_hard_cwo_count.values, df_hard_cwo_count.index, df_hard_cwo_count.columns, ax=ax, cmap=\"Wistia\", \n",
    "                   cbarlabel=\"Fraction of synthesizable molecules\", vmin=0, vmax=1)\n",
    "texts = annotate_heatmap(im, valfmt=\"{x:.2f}\")\n",
    "\n",
    "fig.tight_layout()\n",
    "plt.show()"
   ]
  },
  {
   "cell_type": "code",
   "execution_count": 26,
   "metadata": {},
   "outputs": [
    {
     "data": {
      "image/png": "[encoded data removed]",
      "text/plain": [
       "<Figure size 864x648 with 2 Axes>"
      ]
     },
     "metadata": {
      "needs_background": "light"
     },
     "output_type": "display_data"
    }
   ],
   "source": [
    "fig, ax = plt.subplots(1, 1, figsize=(12, 9))\n",
    "\n",
    "im, cbar = heatmap(df_hard_mwo_count.values, df_hard_mwo_count.index, df_hard_mwo_count.columns, ax=ax, cmap=\"Wistia\", \n",
    "                   cbarlabel=\"Fraction of synthesizable molecules\", vmin=0, vmax=1)\n",
    "texts = annotate_heatmap(im, valfmt=\"{x:.2f}\")\n",
    "\n",
    "fig.tight_layout()\n",
    "plt.show()"
   ]
  },
  {
   "cell_type": "code",
   "execution_count": 27,
   "metadata": {},
   "outputs": [
    {
     "data": {
      "image/png": "[encoded data removed]",
      "text/plain": [
       "<Figure size 864x648 with 2 Axes>"
      ]
     },
     "metadata": {
      "needs_background": "light"
     },
     "output_type": "display_data"
    }
   ],
   "source": [
    "fig, ax = plt.subplots(1, 1, figsize=(12, 9))\n",
    "\n",
    "im, cbar = heatmap(df_hard_mwa_count.values, df_hard_mwa_count.index, df_hard_mwa_count.columns, ax=ax, cmap=\"Wistia\", \n",
    "                   cbarlabel=\"Fraction of synthesizable molecules\", vmin=0, vmax=1)\n",
    "texts = annotate_heatmap(im, valfmt=\"{x:.2f}\")\n",
    "\n",
    "fig.tight_layout()\n",
    "plt.show()"
   ]
  },
  {
   "cell_type": "code",
   "execution_count": 28,
   "metadata": {},
   "outputs": [
    {
     "data": {
      "image/png": "[encoded data removed]",
      "text/plain": [
       "<Figure size 864x648 with 2 Axes>"
      ]
     },
     "metadata": {
      "needs_background": "light"
     },
     "output_type": "display_data"
    }
   ],
   "source": [
    "fig, ax = plt.subplots(1, 1, figsize=(12, 9))\n",
    "\n",
    "im, cbar = heatmap(df_hard_mwc_count.values, df_hard_mwc_count.index, df_hard_mwc_count.columns, ax=ax, cmap=\"Wistia\", \n",
    "                   cbarlabel=\"Fraction of synthesizable molecules\", vmin=0, vmax=1)\n",
    "texts = annotate_heatmap(im, valfmt=\"{x:.2f}\")\n",
    "\n",
    "fig.tight_layout()\n",
    "plt.show()"
   ]
  },
  {
   "cell_type": "code",
   "execution_count": null,
   "metadata": {},
   "outputs": [],
   "source": []
  }
 ],
 "metadata": {
  "kernelspec": {
   "display_name": "Python 3",
   "language": "python",
   "name": "python3"
  },
  "language_info": {
   "codemirror_mode": {
    "name": "ipython",
    "version": 3
   },
   "file_extension": ".py",
   "mimetype": "text/x-python",
   "name": "python",
   "nbconvert_exporter": "python",
   "pygments_lexer": "ipython3",
   "version": "3.6.3"
  }
 },
 "nbformat": 4,
 "nbformat_minor": 2
}
